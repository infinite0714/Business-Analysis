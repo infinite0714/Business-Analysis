{
 "cells": [
  {
   "cell_type": "markdown",
   "id": "e7d6cf36-7748-4a1c-a557-1d8f4cd6d6de",
   "metadata": {},
   "source": [
    "# Customer Segmentation"
   ]
  },
  {
   "cell_type": "code",
   "execution_count": 13,
   "id": "cb3304a0-522e-474b-bdc0-3937b6ef8203",
   "metadata": {
    "tags": []
   },
   "outputs": [],
   "source": [
    "import numpy as np\n",
    "import pandas as pd\n",
    "import matplotlib.pyplot as plt\n",
    "from pandasql import sqldf\n",
    "from sklearn.preprocessing import scale\n",
    "from scipy.spatial.distance import pdist\n",
    "from scipy.cluster.hierarchy import dendrogram , linkage, cut_tree\n",
    "import squarify"
   ]
  },
  {
   "cell_type": "code",
   "execution_count": 148,
   "id": "8d1e2dae-4117-4ab3-90bf-5d281e109d01",
   "metadata": {
    "tags": []
   },
   "outputs": [],
   "source": [
    "pysqldf = lambda q: sqldf(q, globals())\n",
    "%precision %.2f\n",
    "pd.options.display.float_format = '{:,.2f}'.format #Never use space\n",
    "plt.rcParams[\"figure.figsize\"] = (12, 8)"
   ]
  },
  {
   "cell_type": "markdown",
   "id": "4ee12b46-64c1-4c88-8b27-f3b7fa938a8d",
   "metadata": {
    "tags": []
   },
   "source": [
    "## Data Wrangling"
   ]
  },
  {
   "cell_type": "code",
   "execution_count": 151,
   "id": "ddbce1f7-7377-4a85-8fd1-c335be3ac544",
   "metadata": {
    "tags": []
   },
   "outputs": [],
   "source": [
    "# we start with reading our dataset from the csv file\n",
    "headers = ['customer_id', 'purchase_amount', 'date_of_purchase']\n",
    "df = pd.read_csv('./Datasets/purchases.txt', header = None,\n",
    "                names = headers, sep = '\\t')"
   ]
  },
  {
   "cell_type": "code",
   "execution_count": 153,
   "id": "90e2083f-585e-4d3b-bf72-09b9d2858a34",
   "metadata": {
    "tags": []
   },
   "outputs": [
    {
     "data": {
      "text/html": [
       "<div>\n",
       "<style scoped>\n",
       "    .dataframe tbody tr th:only-of-type {\n",
       "        vertical-align: middle;\n",
       "    }\n",
       "\n",
       "    .dataframe tbody tr th {\n",
       "        vertical-align: top;\n",
       "    }\n",
       "\n",
       "    .dataframe thead th {\n",
       "        text-align: right;\n",
       "    }\n",
       "</style>\n",
       "<table border=\"1\" class=\"dataframe\">\n",
       "  <thead>\n",
       "    <tr style=\"text-align: right;\">\n",
       "      <th></th>\n",
       "      <th>customer_id</th>\n",
       "      <th>purchase_amount</th>\n",
       "      <th>date_of_purchase</th>\n",
       "    </tr>\n",
       "  </thead>\n",
       "  <tbody>\n",
       "    <tr>\n",
       "      <th>0</th>\n",
       "      <td>760</td>\n",
       "      <td>25.00</td>\n",
       "      <td>2009-11-06</td>\n",
       "    </tr>\n",
       "    <tr>\n",
       "      <th>1</th>\n",
       "      <td>860</td>\n",
       "      <td>50.00</td>\n",
       "      <td>2012-09-28</td>\n",
       "    </tr>\n",
       "    <tr>\n",
       "      <th>2</th>\n",
       "      <td>1200</td>\n",
       "      <td>100.00</td>\n",
       "      <td>2005-10-25</td>\n",
       "    </tr>\n",
       "    <tr>\n",
       "      <th>3</th>\n",
       "      <td>1420</td>\n",
       "      <td>50.00</td>\n",
       "      <td>2009-07-09</td>\n",
       "    </tr>\n",
       "    <tr>\n",
       "      <th>4</th>\n",
       "      <td>1940</td>\n",
       "      <td>70.00</td>\n",
       "      <td>2013-01-25</td>\n",
       "    </tr>\n",
       "  </tbody>\n",
       "</table>\n",
       "</div>"
      ],
      "text/plain": [
       "   customer_id  purchase_amount date_of_purchase\n",
       "0          760            25.00       2009-11-06\n",
       "1          860            50.00       2012-09-28\n",
       "2         1200           100.00       2005-10-25\n",
       "3         1420            50.00       2009-07-09\n",
       "4         1940            70.00       2013-01-25"
      ]
     },
     "execution_count": 153,
     "metadata": {},
     "output_type": "execute_result"
    }
   ],
   "source": [
    "df.head()"
   ]
  },
  {
   "cell_type": "code",
   "execution_count": 155,
   "id": "0d477ed2-5e5d-47b2-b0d4-7a9dc3f75cbf",
   "metadata": {
    "tags": []
   },
   "outputs": [
    {
     "name": "stdout",
     "output_type": "stream",
     "text": [
      "<class 'pandas.core.frame.DataFrame'>\n",
      "RangeIndex: 51243 entries, 0 to 51242\n",
      "Data columns (total 3 columns):\n",
      " #   Column            Non-Null Count  Dtype  \n",
      "---  ------            --------------  -----  \n",
      " 0   customer_id       51243 non-null  int64  \n",
      " 1   purchase_amount   51243 non-null  float64\n",
      " 2   date_of_purchase  51243 non-null  object \n",
      "dtypes: float64(1), int64(1), object(1)\n",
      "memory usage: 1.2+ MB\n"
     ]
    }
   ],
   "source": [
    "df.info()"
   ]
  },
  {
   "cell_type": "code",
   "execution_count": 157,
   "id": "7e3a2e0c-667c-4017-b71b-3c587434dadb",
   "metadata": {
    "tags": []
   },
   "outputs": [],
   "source": [
    "#Transform the last column to a date object\n",
    "df['date_of_purchase'] = pd.to_datetime(df['date_of_purchase'],\n",
    "                                       format = '%Y-%m-%d')"
   ]
  },
  {
   "cell_type": "code",
   "execution_count": 159,
   "id": "f0475196-1987-4fc3-97e4-0216761db889",
   "metadata": {
    "tags": []
   },
   "outputs": [],
   "source": [
    "#Extract year of purchase and save it as a column\n",
    "df['year_of_purchase'] = df['date_of_purchase'].dt.year\n",
    "#Add a day_since column showing the difference between last purchase and a basedate\n",
    "basedate = pd.Timestamp('2016-01-01')\n",
    "df['days_since'] = (basedate - df['date_of_purchase']).dt.days"
   ]
  },
  {
   "cell_type": "code",
   "execution_count": 161,
   "id": "9eed8dfd-b231-4cf2-a605-6398fd7a6d25",
   "metadata": {
    "tags": []
   },
   "outputs": [
    {
     "data": {
      "text/html": [
       "<div>\n",
       "<style scoped>\n",
       "    .dataframe tbody tr th:only-of-type {\n",
       "        vertical-align: middle;\n",
       "    }\n",
       "\n",
       "    .dataframe tbody tr th {\n",
       "        vertical-align: top;\n",
       "    }\n",
       "\n",
       "    .dataframe thead th {\n",
       "        text-align: right;\n",
       "    }\n",
       "</style>\n",
       "<table border=\"1\" class=\"dataframe\">\n",
       "  <thead>\n",
       "    <tr style=\"text-align: right;\">\n",
       "      <th></th>\n",
       "      <th>customer_id</th>\n",
       "      <th>purchase_amount</th>\n",
       "      <th>date_of_purchase</th>\n",
       "      <th>year_of_purchase</th>\n",
       "      <th>days_since</th>\n",
       "    </tr>\n",
       "  </thead>\n",
       "  <tbody>\n",
       "    <tr>\n",
       "      <th>1597</th>\n",
       "      <td>16730</td>\n",
       "      <td>40.00</td>\n",
       "      <td>2006-11-08</td>\n",
       "      <td>2006</td>\n",
       "      <td>3341</td>\n",
       "    </tr>\n",
       "    <tr>\n",
       "      <th>501</th>\n",
       "      <td>99890</td>\n",
       "      <td>20.00</td>\n",
       "      <td>2008-06-18</td>\n",
       "      <td>2008</td>\n",
       "      <td>2753</td>\n",
       "    </tr>\n",
       "    <tr>\n",
       "      <th>38205</th>\n",
       "      <td>165760</td>\n",
       "      <td>60.00</td>\n",
       "      <td>2011-11-25</td>\n",
       "      <td>2011</td>\n",
       "      <td>1498</td>\n",
       "    </tr>\n",
       "    <tr>\n",
       "      <th>6400</th>\n",
       "      <td>47500</td>\n",
       "      <td>15.00</td>\n",
       "      <td>2005-12-28</td>\n",
       "      <td>2005</td>\n",
       "      <td>3656</td>\n",
       "    </tr>\n",
       "    <tr>\n",
       "      <th>18334</th>\n",
       "      <td>9790</td>\n",
       "      <td>30.00</td>\n",
       "      <td>2012-03-03</td>\n",
       "      <td>2012</td>\n",
       "      <td>1399</td>\n",
       "    </tr>\n",
       "  </tbody>\n",
       "</table>\n",
       "</div>"
      ],
      "text/plain": [
       "       customer_id  purchase_amount date_of_purchase  year_of_purchase  \\\n",
       "1597         16730            40.00       2006-11-08              2006   \n",
       "501          99890            20.00       2008-06-18              2008   \n",
       "38205       165760            60.00       2011-11-25              2011   \n",
       "6400         47500            15.00       2005-12-28              2005   \n",
       "18334         9790            30.00       2012-03-03              2012   \n",
       "\n",
       "       days_since  \n",
       "1597         3341  \n",
       "501          2753  \n",
       "38205        1498  \n",
       "6400         3656  \n",
       "18334        1399  "
      ]
     },
     "execution_count": 161,
     "metadata": {},
     "output_type": "execute_result"
    }
   ],
   "source": [
    "df.sample(n = 5, random_state = 26)"
   ]
  },
  {
   "cell_type": "code",
   "execution_count": 163,
   "id": "ee9fdf7b-ac88-4944-b06b-ef5c5e4f8124",
   "metadata": {
    "tags": []
   },
   "outputs": [
    {
     "data": {
      "text/html": [
       "<div>\n",
       "<style scoped>\n",
       "    .dataframe tbody tr th:only-of-type {\n",
       "        vertical-align: middle;\n",
       "    }\n",
       "\n",
       "    .dataframe tbody tr th {\n",
       "        vertical-align: top;\n",
       "    }\n",
       "\n",
       "    .dataframe thead th {\n",
       "        text-align: right;\n",
       "    }\n",
       "</style>\n",
       "<table border=\"1\" class=\"dataframe\">\n",
       "  <thead>\n",
       "    <tr style=\"text-align: right;\">\n",
       "      <th></th>\n",
       "      <th>customer_id</th>\n",
       "      <th>purchase_amount</th>\n",
       "      <th>date_of_purchase</th>\n",
       "      <th>year_of_purchase</th>\n",
       "      <th>days_since</th>\n",
       "    </tr>\n",
       "  </thead>\n",
       "  <tbody>\n",
       "    <tr>\n",
       "      <th>count</th>\n",
       "      <td>51,243.00</td>\n",
       "      <td>51,243.00</td>\n",
       "      <td>51243</td>\n",
       "      <td>51,243.00</td>\n",
       "      <td>51,243.00</td>\n",
       "    </tr>\n",
       "    <tr>\n",
       "      <th>mean</th>\n",
       "      <td>108,934.55</td>\n",
       "      <td>62.34</td>\n",
       "      <td>2011-07-14 01:27:23.721093632</td>\n",
       "      <td>2,010.87</td>\n",
       "      <td>1,631.94</td>\n",
       "    </tr>\n",
       "    <tr>\n",
       "      <th>min</th>\n",
       "      <td>10.00</td>\n",
       "      <td>5.00</td>\n",
       "      <td>2005-01-02 00:00:00</td>\n",
       "      <td>2,005.00</td>\n",
       "      <td>1.00</td>\n",
       "    </tr>\n",
       "    <tr>\n",
       "      <th>25%</th>\n",
       "      <td>57,720.00</td>\n",
       "      <td>25.00</td>\n",
       "      <td>2009-01-17 00:00:00</td>\n",
       "      <td>2,009.00</td>\n",
       "      <td>733.00</td>\n",
       "    </tr>\n",
       "    <tr>\n",
       "      <th>50%</th>\n",
       "      <td>102,440.00</td>\n",
       "      <td>30.00</td>\n",
       "      <td>2011-11-23 00:00:00</td>\n",
       "      <td>2,011.00</td>\n",
       "      <td>1,500.00</td>\n",
       "    </tr>\n",
       "    <tr>\n",
       "      <th>75%</th>\n",
       "      <td>160,525.00</td>\n",
       "      <td>60.00</td>\n",
       "      <td>2013-12-29 00:00:00</td>\n",
       "      <td>2,013.00</td>\n",
       "      <td>2,540.00</td>\n",
       "    </tr>\n",
       "    <tr>\n",
       "      <th>max</th>\n",
       "      <td>264,200.00</td>\n",
       "      <td>4,500.00</td>\n",
       "      <td>2015-12-31 00:00:00</td>\n",
       "      <td>2,015.00</td>\n",
       "      <td>4,016.00</td>\n",
       "    </tr>\n",
       "    <tr>\n",
       "      <th>std</th>\n",
       "      <td>67,650.61</td>\n",
       "      <td>156.61</td>\n",
       "      <td>NaN</td>\n",
       "      <td>2.88</td>\n",
       "      <td>1,061.08</td>\n",
       "    </tr>\n",
       "  </tbody>\n",
       "</table>\n",
       "</div>"
      ],
      "text/plain": [
       "       customer_id  purchase_amount               date_of_purchase  \\\n",
       "count    51,243.00        51,243.00                          51243   \n",
       "mean    108,934.55            62.34  2011-07-14 01:27:23.721093632   \n",
       "min          10.00             5.00            2005-01-02 00:00:00   \n",
       "25%      57,720.00            25.00            2009-01-17 00:00:00   \n",
       "50%     102,440.00            30.00            2011-11-23 00:00:00   \n",
       "75%     160,525.00            60.00            2013-12-29 00:00:00   \n",
       "max     264,200.00         4,500.00            2015-12-31 00:00:00   \n",
       "std      67,650.61           156.61                            NaN   \n",
       "\n",
       "       year_of_purchase  days_since  \n",
       "count         51,243.00   51,243.00  \n",
       "mean           2,010.87    1,631.94  \n",
       "min            2,005.00        1.00  \n",
       "25%            2,009.00      733.00  \n",
       "50%            2,011.00    1,500.00  \n",
       "75%            2,013.00    2,540.00  \n",
       "max            2,015.00    4,016.00  \n",
       "std                2.88    1,061.08  "
      ]
     },
     "execution_count": 163,
     "metadata": {},
     "output_type": "execute_result"
    }
   ],
   "source": [
    "#summary statistics\n",
    "df.describe()"
   ]
  },
  {
   "cell_type": "markdown",
   "id": "9e477201-85d5-4573-b35f-7633762f5001",
   "metadata": {
    "tags": []
   },
   "source": [
    "## RFM Calculation"
   ]
  },
  {
   "cell_type": "code",
   "execution_count": 166,
   "id": "de615c87-5891-4917-af55-5b92318fdf3d",
   "metadata": {
    "tags": []
   },
   "outputs": [],
   "source": [
    "#Compute recency, frequency, and average purchase amount\n",
    "q = \"\"\"\n",
    "        SELECT customer_ID,\n",
    "        MIN(days_since) AS 'recency',\n",
    "        COUNT(*) AS 'frequency',\n",
    "        AVG(purchase_amount) AS 'amount'\n",
    "        FROM df GROUP BY 1\"\"\"\n",
    "customers = sqldf(q)"
   ]
  },
  {
   "cell_type": "code",
   "execution_count": 167,
   "id": "2cafc92a-1aac-4b20-b896-b30f505d180e",
   "metadata": {
    "tags": []
   },
   "outputs": [
    {
     "data": {
      "text/html": [
       "<div>\n",
       "<style scoped>\n",
       "    .dataframe tbody tr th:only-of-type {\n",
       "        vertical-align: middle;\n",
       "    }\n",
       "\n",
       "    .dataframe tbody tr th {\n",
       "        vertical-align: top;\n",
       "    }\n",
       "\n",
       "    .dataframe thead th {\n",
       "        text-align: right;\n",
       "    }\n",
       "</style>\n",
       "<table border=\"1\" class=\"dataframe\">\n",
       "  <thead>\n",
       "    <tr style=\"text-align: right;\">\n",
       "      <th></th>\n",
       "      <th>customer_id</th>\n",
       "      <th>recency</th>\n",
       "      <th>frequency</th>\n",
       "      <th>amount</th>\n",
       "    </tr>\n",
       "  </thead>\n",
       "  <tbody>\n",
       "    <tr>\n",
       "      <th>0</th>\n",
       "      <td>10</td>\n",
       "      <td>3829</td>\n",
       "      <td>1</td>\n",
       "      <td>30.00</td>\n",
       "    </tr>\n",
       "    <tr>\n",
       "      <th>1</th>\n",
       "      <td>80</td>\n",
       "      <td>343</td>\n",
       "      <td>7</td>\n",
       "      <td>71.43</td>\n",
       "    </tr>\n",
       "    <tr>\n",
       "      <th>2</th>\n",
       "      <td>90</td>\n",
       "      <td>758</td>\n",
       "      <td>10</td>\n",
       "      <td>115.80</td>\n",
       "    </tr>\n",
       "    <tr>\n",
       "      <th>3</th>\n",
       "      <td>120</td>\n",
       "      <td>1401</td>\n",
       "      <td>1</td>\n",
       "      <td>20.00</td>\n",
       "    </tr>\n",
       "    <tr>\n",
       "      <th>4</th>\n",
       "      <td>130</td>\n",
       "      <td>2970</td>\n",
       "      <td>2</td>\n",
       "      <td>50.00</td>\n",
       "    </tr>\n",
       "  </tbody>\n",
       "</table>\n",
       "</div>"
      ],
      "text/plain": [
       "   customer_id  recency  frequency  amount\n",
       "0           10     3829          1   30.00\n",
       "1           80      343          7   71.43\n",
       "2           90      758         10  115.80\n",
       "3          120     1401          1   20.00\n",
       "4          130     2970          2   50.00"
      ]
     },
     "execution_count": 167,
     "metadata": {},
     "output_type": "execute_result"
    }
   ],
   "source": [
    "customers.head()"
   ]
  },
  {
   "cell_type": "markdown",
   "id": "14b438f7-1b6d-4d1a-8b63-f5798efef994",
   "metadata": {
    "tags": []
   },
   "source": [
    "## EDA"
   ]
  },
  {
   "cell_type": "code",
   "execution_count": 169,
   "id": "b9883cb5-9f44-452e-8953-0784446dbe32",
   "metadata": {
    "tags": []
   },
   "outputs": [
    {
     "data": {
      "text/html": [
       "<div>\n",
       "<style scoped>\n",
       "    .dataframe tbody tr th:only-of-type {\n",
       "        vertical-align: middle;\n",
       "    }\n",
       "\n",
       "    .dataframe tbody tr th {\n",
       "        vertical-align: top;\n",
       "    }\n",
       "\n",
       "    .dataframe thead th {\n",
       "        text-align: right;\n",
       "    }\n",
       "</style>\n",
       "<table border=\"1\" class=\"dataframe\">\n",
       "  <thead>\n",
       "    <tr style=\"text-align: right;\">\n",
       "      <th></th>\n",
       "      <th>recency</th>\n",
       "      <th>frequency</th>\n",
       "      <th>amount</th>\n",
       "    </tr>\n",
       "  </thead>\n",
       "  <tbody>\n",
       "    <tr>\n",
       "      <th>count</th>\n",
       "      <td>18,417.00</td>\n",
       "      <td>18,417.00</td>\n",
       "      <td>18,417.00</td>\n",
       "    </tr>\n",
       "    <tr>\n",
       "      <th>mean</th>\n",
       "      <td>1,253.04</td>\n",
       "      <td>2.78</td>\n",
       "      <td>57.79</td>\n",
       "    </tr>\n",
       "    <tr>\n",
       "      <th>std</th>\n",
       "      <td>1,081.44</td>\n",
       "      <td>2.94</td>\n",
       "      <td>154.36</td>\n",
       "    </tr>\n",
       "    <tr>\n",
       "      <th>min</th>\n",
       "      <td>1.00</td>\n",
       "      <td>1.00</td>\n",
       "      <td>5.00</td>\n",
       "    </tr>\n",
       "    <tr>\n",
       "      <th>25%</th>\n",
       "      <td>244.00</td>\n",
       "      <td>1.00</td>\n",
       "      <td>21.67</td>\n",
       "    </tr>\n",
       "    <tr>\n",
       "      <th>50%</th>\n",
       "      <td>1,070.00</td>\n",
       "      <td>2.00</td>\n",
       "      <td>30.00</td>\n",
       "    </tr>\n",
       "    <tr>\n",
       "      <th>75%</th>\n",
       "      <td>2,130.00</td>\n",
       "      <td>3.00</td>\n",
       "      <td>50.00</td>\n",
       "    </tr>\n",
       "    <tr>\n",
       "      <th>max</th>\n",
       "      <td>4,014.00</td>\n",
       "      <td>45.00</td>\n",
       "      <td>4,500.00</td>\n",
       "    </tr>\n",
       "  </tbody>\n",
       "</table>\n",
       "</div>"
      ],
      "text/plain": [
       "        recency  frequency    amount\n",
       "count 18,417.00  18,417.00 18,417.00\n",
       "mean   1,253.04       2.78     57.79\n",
       "std    1,081.44       2.94    154.36\n",
       "min        1.00       1.00      5.00\n",
       "25%      244.00       1.00     21.67\n",
       "50%    1,070.00       2.00     30.00\n",
       "75%    2,130.00       3.00     50.00\n",
       "max    4,014.00      45.00  4,500.00"
      ]
     },
     "execution_count": 169,
     "metadata": {},
     "output_type": "execute_result"
    }
   ],
   "source": [
    "customers[['recency', 'frequency', 'amount']].describe()"
   ]
  },
  {
   "cell_type": "code",
   "execution_count": 173,
   "id": "5a49312f-76ce-4d5b-83e6-8ee5c30bec2c",
   "metadata": {
    "tags": []
   },
   "outputs": [
    {
     "data": {
      "text/plain": [
       "(0.00, 4214.65)"
      ]
     },
     "execution_count": 173,
     "metadata": {},
     "output_type": "execute_result"
    },
    {
     "data": {
      "image/png": "[encoded data removed]",
      "text/plain": [
       "<Figure size 1200x800 with 1 Axes>"
      ]
     },
     "metadata": {},
     "output_type": "display_data"
    }
   ],
   "source": [
    "# it's important to determine the value of bins\n",
    "customers.hist(column = 'recency', bins = 31)\n",
    "plt.ylabel('Customers', fontsize = 15)\n",
    "plt.xlabel('Days Since last Purchase', fontsize = 15)\n",
    "plt.xlim(0,)"
   ]
  },
  {
   "cell_type": "code",
   "execution_count": 174,
   "id": "a254744c-a10a-4669-a6f7-5c410412bb8a",
   "metadata": {
    "tags": []
   },
   "outputs": [
    {
     "data": {
      "text/plain": [
       "(0.00, 20.00)"
      ]
     },
     "execution_count": 174,
     "metadata": {},
     "output_type": "execute_result"
    },
    {
     "data": {
      "image/png": "[encoded data removed]",
      "text/plain": [
       "<Figure size 1200x800 with 1 Axes>"
      ]
     },
     "metadata": {},
     "output_type": "display_data"
    }
   ],
   "source": [
    "customers.hist(column = 'frequency', bins = 41)\n",
    "plt.ylabel('Customers', fontsize = 15)\n",
    "plt.xlabel('Number of Purchases', fontsize = 15)\n",
    "plt.xlim(0, 20)"
   ]
  },
  {
   "cell_type": "code",
   "execution_count": 176,
   "id": "0f7f61b4-49bd-4565-82de-e3724d2b6c16",
   "metadata": {
    "tags": []
   },
   "outputs": [
    {
     "data": {
      "text/plain": [
       "(0.00, 4347.00)"
      ]
     },
     "execution_count": 176,
     "metadata": {},
     "output_type": "execute_result"
    },
    {
     "data": {
      "image/png": "[encoded data removed]",
      "text/plain": [
       "<Figure size 1200x800 with 1 Axes>"
      ]
     },
     "metadata": {},
     "output_type": "display_data"
    }
   ],
   "source": [
    "customers.hist(column = 'amount', bins = 601)\n",
    "plt.ylabel('Customers', fontsize = 15)\n",
    "plt.xlabel('Average Amount in $', fontsize = 15)\n",
    "plt.xlim(0, 400)\n",
    "plt.ylim(0,)"
   ]
  },
  {
   "cell_type": "markdown",
   "id": "c98d361f-0684-49c3-a733-620bb3dffe70",
   "metadata": {
    "tags": []
   },
   "source": [
    "## HCA"
   ]
  },
  {
   "cell_type": "markdown",
   "id": "30ca8253-5e46-4b4a-97ed-437b8cf7dd11",
   "metadata": {
    "tags": []
   },
   "source": [
    "### Data Transform"
   ]
  },
  {
   "cell_type": "code",
   "execution_count": 181,
   "id": "6f8f2b85-1b19-4598-93c3-6f859395f5ce",
   "metadata": {
    "tags": []
   },
   "outputs": [],
   "source": [
    "# let's copy the data before starting the transformation\n",
    "new_data = customers.copy()\n",
    "new_data.set_index('customer_id', inplace = True)"
   ]
  },
  {
   "cell_type": "code",
   "execution_count": 183,
   "id": "b0bb82a9-38b9-43e9-8535-956d0135c255",
   "metadata": {
    "tags": []
   },
   "outputs": [],
   "source": [
    "# Let's the log of the amount and plot again our data\n",
    "new_data['amount'] = np.log10(new_data['amount'])"
   ]
  },
  {
   "cell_type": "code",
   "execution_count": 185,
   "id": "f252480d-1761-4cd4-9d15-968f460dfba1",
   "metadata": {
    "tags": []
   },
   "outputs": [
    {
     "data": {
      "text/plain": [
       "(0.00, 2.98)"
      ]
     },
     "execution_count": 185,
     "metadata": {},
     "output_type": "execute_result"
    },
    {
     "data": {
      "image/png": "[encoded data removed]",
      "text/plain": [
       "<Figure size 1200x800 with 1 Axes>"
      ]
     },
     "metadata": {},
     "output_type": "display_data"
    }
   ],
   "source": [
    "# plot\n",
    "ax, fig = plt.subplots()\n",
    "new_data['amount'].plot(kind = 'hist', density = True, bins = 40)\n",
    "new_data['amount'].plot(kind = 'kde')\n",
    "\n",
    "plt.xlim(0, 4)\n",
    "plt.ylim(0,)"
   ]
  },
  {
   "cell_type": "code",
   "execution_count": 186,
   "id": "e18ddfd5-9b58-403a-a24f-8b1c43102852",
   "metadata": {
    "tags": []
   },
   "outputs": [
    {
     "name": "stdout",
     "output_type": "stream",
     "text": [
      "Dimension of the distance matrix: (339185889, 3)\n"
     ]
    }
   ],
   "source": [
    "# Now we scale our data and we save it as dataframe:\n",
    "new_data = pd.DataFrame(scale(new_data), index = new_data.index,\n",
    "                       columns = new_data.columns)\n",
    "# computing the distance would generate a huge matrix\n",
    "print(f'Dimension of the distance matrix: ({new_data.shape[0] ** 2}, {new_data.shape[1]})')"
   ]
  },
  {
   "cell_type": "code",
   "execution_count": 189,
   "id": "164c849d-db76-4f67-b250-4f1be2d67da6",
   "metadata": {
    "tags": []
   },
   "outputs": [
    {
     "data": {
      "text/plain": [
       "array([ 0, 10, 20, 30, 40, 50, 60, 70, 80, 90])"
      ]
     },
     "execution_count": 189,
     "metadata": {},
     "output_type": "execute_result"
    }
   ],
   "source": [
    "#Since the distance matrix is that huge,\n",
    "#we are sampling with a sampling rate of 10||%\n",
    "sample = np.arange(0, 18417, 10)\n",
    "sample[:10]"
   ]
  },
  {
   "cell_type": "code",
   "execution_count": 191,
   "id": "0e812b72-2d80-4134-960e-29311ed8f296",
   "metadata": {
    "tags": []
   },
   "outputs": [
    {
     "data": {
      "text/html": [
       "<div>\n",
       "<style scoped>\n",
       "    .dataframe tbody tr th:only-of-type {\n",
       "        vertical-align: middle;\n",
       "    }\n",
       "\n",
       "    .dataframe tbody tr th {\n",
       "        vertical-align: top;\n",
       "    }\n",
       "\n",
       "    .dataframe thead th {\n",
       "        text-align: right;\n",
       "    }\n",
       "</style>\n",
       "<table border=\"1\" class=\"dataframe\">\n",
       "  <thead>\n",
       "    <tr style=\"text-align: right;\">\n",
       "      <th></th>\n",
       "      <th>recency</th>\n",
       "      <th>frequency</th>\n",
       "      <th>amount</th>\n",
       "    </tr>\n",
       "    <tr>\n",
       "      <th>customer_id</th>\n",
       "      <th></th>\n",
       "      <th></th>\n",
       "      <th></th>\n",
       "    </tr>\n",
       "  </thead>\n",
       "  <tbody>\n",
       "    <tr>\n",
       "      <th>10</th>\n",
       "      <td>2.38</td>\n",
       "      <td>-0.61</td>\n",
       "      <td>-0.24</td>\n",
       "    </tr>\n",
       "    <tr>\n",
       "      <th>260</th>\n",
       "      <td>2.27</td>\n",
       "      <td>-0.61</td>\n",
       "      <td>-1.14</td>\n",
       "    </tr>\n",
       "    <tr>\n",
       "      <th>510</th>\n",
       "      <td>2.26</td>\n",
       "      <td>-0.61</td>\n",
       "      <td>-0.24</td>\n",
       "    </tr>\n",
       "    <tr>\n",
       "      <th>850</th>\n",
       "      <td>-1.14</td>\n",
       "      <td>2.46</td>\n",
       "      <td>-0.30</td>\n",
       "    </tr>\n",
       "    <tr>\n",
       "      <th>1040</th>\n",
       "      <td>-1.11</td>\n",
       "      <td>0.41</td>\n",
       "      <td>0.22</td>\n",
       "    </tr>\n",
       "  </tbody>\n",
       "</table>\n",
       "</div>"
      ],
      "text/plain": [
       "             recency  frequency  amount\n",
       "customer_id                            \n",
       "10              2.38      -0.61   -0.24\n",
       "260             2.27      -0.61   -1.14\n",
       "510             2.26      -0.61   -0.24\n",
       "850            -1.14       2.46   -0.30\n",
       "1040           -1.11       0.41    0.22"
      ]
     },
     "execution_count": 191,
     "metadata": {},
     "output_type": "execute_result"
    }
   ],
   "source": [
    "new_data_sample = new_data.iloc[sample]\n",
    "new_data_sample.head()"
   ]
  },
  {
   "cell_type": "code",
   "execution_count": 193,
   "id": "9291f626-9f46-49f7-810f-93bd110e9076",
   "metadata": {
    "tags": []
   },
   "outputs": [],
   "source": [
    "customer_sample = customers.iloc[sample].copy()\n",
    "d = pdist(new_data_sample)\n",
    "hcward = linkage(d, method = 'ward')"
   ]
  },
  {
   "cell_type": "markdown",
   "id": "9f6aa459-28a2-4fcc-82f1-274b488afeff",
   "metadata": {
    "tags": []
   },
   "source": [
    "### The Dendrogram"
   ]
  },
  {
   "cell_type": "code",
   "execution_count": 196,
   "id": "d0037352-ba1f-4a66-84bb-b0bee358e85d",
   "metadata": {
    "tags": []
   },
   "outputs": [
    {
     "data": {
      "text/plain": [
       "Text(0, 0.5, 'Distance')"
      ]
     },
     "execution_count": 196,
     "metadata": {},
     "output_type": "execute_result"
    },
    {
     "data": {
      "image/png": "[encoded data removed]",
      "text/plain": [
       "<Figure size 1200x800 with 1 Axes>"
      ]
     },
     "metadata": {},
     "output_type": "display_data"
    }
   ],
   "source": [
    "#Plot dendrogram\n",
    "plt.title(\"Customer Dendrogram - Truncated\")\n",
    "dend = dendrogram(hcward,\n",
    "                 truncate_mode = 'lastp',\n",
    "                 p = 45,\n",
    "                 show_contracted = True,\n",
    "                 leaf_rotation = 90,\n",
    "                 leaf_font_size = 12)\n",
    "plt.xlabel('Customer ID')\n",
    "plt.ylabel('Distance')"
   ]
  },
  {
   "cell_type": "markdown",
   "id": "77b54583-0168-4240-8a6d-7c3ee044434b",
   "metadata": {
    "tags": []
   },
   "source": [
    "### Determine the Number of Clusters"
   ]
  },
  {
   "cell_type": "code",
   "execution_count": 199,
   "id": "f6359f53-75fc-49b1-8b02-24acd09ae402",
   "metadata": {
    "tags": []
   },
   "outputs": [],
   "source": [
    "#Cut at 11 clusters\n",
    "members = cut_tree(hcward, n_clusters = 11)"
   ]
  },
  {
   "cell_type": "markdown",
   "id": "153244ca-706e-4663-bc03-fc03ef31e544",
   "metadata": {
    "tags": []
   },
   "source": [
    "### Capture the clusters"
   ]
  },
  {
   "cell_type": "code",
   "execution_count": 206,
   "id": "a728e0a3-774a-41a1-9ed3-e4a45fd717b4",
   "metadata": {
    "tags": []
   },
   "outputs": [
    {
     "data": {
      "text/html": [
       "<div>\n",
       "<style scoped>\n",
       "    .dataframe tbody tr th:only-of-type {\n",
       "        vertical-align: middle;\n",
       "    }\n",
       "\n",
       "    .dataframe tbody tr th {\n",
       "        vertical-align: top;\n",
       "    }\n",
       "\n",
       "    .dataframe thead th {\n",
       "        text-align: right;\n",
       "    }\n",
       "</style>\n",
       "<table border=\"1\" class=\"dataframe\">\n",
       "  <thead>\n",
       "    <tr style=\"text-align: right;\">\n",
       "      <th></th>\n",
       "      <th>customer_id</th>\n",
       "      <th>recency</th>\n",
       "      <th>frequency</th>\n",
       "      <th>amount</th>\n",
       "      <th>group</th>\n",
       "    </tr>\n",
       "  </thead>\n",
       "  <tbody>\n",
       "    <tr>\n",
       "      <th>0</th>\n",
       "      <td>10</td>\n",
       "      <td>3829</td>\n",
       "      <td>1</td>\n",
       "      <td>30.00</td>\n",
       "      <td>0</td>\n",
       "    </tr>\n",
       "    <tr>\n",
       "      <th>10</th>\n",
       "      <td>260</td>\n",
       "      <td>3710</td>\n",
       "      <td>1</td>\n",
       "      <td>15.00</td>\n",
       "      <td>1</td>\n",
       "    </tr>\n",
       "    <tr>\n",
       "      <th>20</th>\n",
       "      <td>510</td>\n",
       "      <td>3698</td>\n",
       "      <td>1</td>\n",
       "      <td>30.00</td>\n",
       "      <td>0</td>\n",
       "    </tr>\n",
       "    <tr>\n",
       "      <th>30</th>\n",
       "      <td>850</td>\n",
       "      <td>24</td>\n",
       "      <td>10</td>\n",
       "      <td>28.50</td>\n",
       "      <td>2</td>\n",
       "    </tr>\n",
       "    <tr>\n",
       "      <th>40</th>\n",
       "      <td>1040</td>\n",
       "      <td>56</td>\n",
       "      <td>4</td>\n",
       "      <td>42.50</td>\n",
       "      <td>3</td>\n",
       "    </tr>\n",
       "  </tbody>\n",
       "</table>\n",
       "</div>"
      ],
      "text/plain": [
       "    customer_id  recency  frequency  amount  group\n",
       "0            10     3829          1   30.00      0\n",
       "10          260     3710          1   15.00      1\n",
       "20          510     3698          1   30.00      0\n",
       "30          850       24         10   28.50      2\n",
       "40         1040       56          4   42.50      3"
      ]
     },
     "execution_count": 206,
     "metadata": {},
     "output_type": "execute_result"
    }
   ],
   "source": [
    "# Assign to each customer a group\n",
    "groups, counts = np.unique(members, return_counts = True)\n",
    "segments = dict(zip(groups, counts))\n",
    "customer_sample['group'] = members.flatten()\n",
    "customer_sample.head()"
   ]
  },
  {
   "cell_type": "code",
   "execution_count": 212,
   "id": "7a69eb20-e8bb-43ed-8d93-8e03a93f890c",
   "metadata": {
    "tags": []
   },
   "outputs": [
    {
     "data": {
      "text/html": [
       "<div>\n",
       "<style scoped>\n",
       "    .dataframe tbody tr th:only-of-type {\n",
       "        vertical-align: middle;\n",
       "    }\n",
       "\n",
       "    .dataframe tbody tr th {\n",
       "        vertical-align: top;\n",
       "    }\n",
       "\n",
       "    .dataframe thead th {\n",
       "        text-align: right;\n",
       "    }\n",
       "</style>\n",
       "<table border=\"1\" class=\"dataframe\">\n",
       "  <thead>\n",
       "    <tr style=\"text-align: right;\">\n",
       "      <th></th>\n",
       "      <th>recency</th>\n",
       "      <th>frequency</th>\n",
       "      <th>amount</th>\n",
       "    </tr>\n",
       "    <tr>\n",
       "      <th>group</th>\n",
       "      <th></th>\n",
       "      <th></th>\n",
       "      <th></th>\n",
       "    </tr>\n",
       "  </thead>\n",
       "  <tbody>\n",
       "    <tr>\n",
       "      <th>0</th>\n",
       "      <td>2,563.24</td>\n",
       "      <td>1.28</td>\n",
       "      <td>37.78</td>\n",
       "    </tr>\n",
       "    <tr>\n",
       "      <th>1</th>\n",
       "      <td>2,684.29</td>\n",
       "      <td>1.31</td>\n",
       "      <td>16.26</td>\n",
       "    </tr>\n",
       "    <tr>\n",
       "      <th>2</th>\n",
       "      <td>202.55</td>\n",
       "      <td>9.86</td>\n",
       "      <td>42.48</td>\n",
       "    </tr>\n",
       "    <tr>\n",
       "      <th>3</th>\n",
       "      <td>162.10</td>\n",
       "      <td>2.40</td>\n",
       "      <td>41.11</td>\n",
       "    </tr>\n",
       "    <tr>\n",
       "      <th>4</th>\n",
       "      <td>2,567.04</td>\n",
       "      <td>1.86</td>\n",
       "      <td>214.86</td>\n",
       "    </tr>\n",
       "    <tr>\n",
       "      <th>5</th>\n",
       "      <td>448.58</td>\n",
       "      <td>6.58</td>\n",
       "      <td>261.22</td>\n",
       "    </tr>\n",
       "    <tr>\n",
       "      <th>6</th>\n",
       "      <td>1,653.88</td>\n",
       "      <td>3.55</td>\n",
       "      <td>35.70</td>\n",
       "    </tr>\n",
       "    <tr>\n",
       "      <th>7</th>\n",
       "      <td>507.18</td>\n",
       "      <td>5.61</td>\n",
       "      <td>22.56</td>\n",
       "    </tr>\n",
       "    <tr>\n",
       "      <th>8</th>\n",
       "      <td>922.83</td>\n",
       "      <td>1.28</td>\n",
       "      <td>22.43</td>\n",
       "    </tr>\n",
       "    <tr>\n",
       "      <th>9</th>\n",
       "      <td>74.00</td>\n",
       "      <td>20.78</td>\n",
       "      <td>35.80</td>\n",
       "    </tr>\n",
       "    <tr>\n",
       "      <th>10</th>\n",
       "      <td>799.34</td>\n",
       "      <td>1.40</td>\n",
       "      <td>87.43</td>\n",
       "    </tr>\n",
       "  </tbody>\n",
       "</table>\n",
       "</div>"
      ],
      "text/plain": [
       "       recency  frequency  amount\n",
       "group                            \n",
       "0     2,563.24       1.28   37.78\n",
       "1     2,684.29       1.31   16.26\n",
       "2       202.55       9.86   42.48\n",
       "3       162.10       2.40   41.11\n",
       "4     2,567.04       1.86  214.86\n",
       "5       448.58       6.58  261.22\n",
       "6     1,653.88       3.55   35.70\n",
       "7       507.18       5.61   22.56\n",
       "8       922.83       1.28   22.43\n",
       "9        74.00      20.78   35.80\n",
       "10      799.34       1.40   87.43"
      ]
     },
     "execution_count": 212,
     "metadata": {},
     "output_type": "execute_result"
    }
   ],
   "source": [
    "clusters = customer_sample[['recency', 'frequency', 'amount', 'group']].groupby('group').mean()\n",
    "clusters"
   ]
  },
  {
   "cell_type": "code",
   "execution_count": 216,
   "id": "4da58599-281d-42bc-89b3-6094b64f81c4",
   "metadata": {
    "tags": []
   },
   "outputs": [
    {
     "data": {
      "text/html": [
       "<div>\n",
       "<style scoped>\n",
       "    .dataframe tbody tr th:only-of-type {\n",
       "        vertical-align: middle;\n",
       "    }\n",
       "\n",
       "    .dataframe tbody tr th {\n",
       "        vertical-align: top;\n",
       "    }\n",
       "\n",
       "    .dataframe thead th {\n",
       "        text-align: right;\n",
       "    }\n",
       "</style>\n",
       "<table border=\"1\" class=\"dataframe\">\n",
       "  <thead>\n",
       "    <tr style=\"text-align: right;\">\n",
       "      <th></th>\n",
       "      <th>recency</th>\n",
       "      <th>frequency</th>\n",
       "      <th>amount</th>\n",
       "    </tr>\n",
       "    <tr>\n",
       "      <th>group</th>\n",
       "      <th></th>\n",
       "      <th></th>\n",
       "      <th></th>\n",
       "    </tr>\n",
       "  </thead>\n",
       "  <tbody>\n",
       "    <tr>\n",
       "      <th>5</th>\n",
       "      <td>448.58</td>\n",
       "      <td>6.58</td>\n",
       "      <td>261.22</td>\n",
       "    </tr>\n",
       "    <tr>\n",
       "      <th>4</th>\n",
       "      <td>2,567.04</td>\n",
       "      <td>1.86</td>\n",
       "      <td>214.86</td>\n",
       "    </tr>\n",
       "    <tr>\n",
       "      <th>10</th>\n",
       "      <td>799.34</td>\n",
       "      <td>1.40</td>\n",
       "      <td>87.43</td>\n",
       "    </tr>\n",
       "    <tr>\n",
       "      <th>2</th>\n",
       "      <td>202.55</td>\n",
       "      <td>9.86</td>\n",
       "      <td>42.48</td>\n",
       "    </tr>\n",
       "    <tr>\n",
       "      <th>3</th>\n",
       "      <td>162.10</td>\n",
       "      <td>2.40</td>\n",
       "      <td>41.11</td>\n",
       "    </tr>\n",
       "    <tr>\n",
       "      <th>0</th>\n",
       "      <td>2,563.24</td>\n",
       "      <td>1.28</td>\n",
       "      <td>37.78</td>\n",
       "    </tr>\n",
       "    <tr>\n",
       "      <th>9</th>\n",
       "      <td>74.00</td>\n",
       "      <td>20.78</td>\n",
       "      <td>35.80</td>\n",
       "    </tr>\n",
       "    <tr>\n",
       "      <th>6</th>\n",
       "      <td>1,653.88</td>\n",
       "      <td>3.55</td>\n",
       "      <td>35.70</td>\n",
       "    </tr>\n",
       "    <tr>\n",
       "      <th>7</th>\n",
       "      <td>507.18</td>\n",
       "      <td>5.61</td>\n",
       "      <td>22.56</td>\n",
       "    </tr>\n",
       "    <tr>\n",
       "      <th>8</th>\n",
       "      <td>922.83</td>\n",
       "      <td>1.28</td>\n",
       "      <td>22.43</td>\n",
       "    </tr>\n",
       "    <tr>\n",
       "      <th>1</th>\n",
       "      <td>2,684.29</td>\n",
       "      <td>1.31</td>\n",
       "      <td>16.26</td>\n",
       "    </tr>\n",
       "  </tbody>\n",
       "</table>\n",
       "</div>"
      ],
      "text/plain": [
       "       recency  frequency  amount\n",
       "group                            \n",
       "5       448.58       6.58  261.22\n",
       "4     2,567.04       1.86  214.86\n",
       "10      799.34       1.40   87.43\n",
       "2       202.55       9.86   42.48\n",
       "3       162.10       2.40   41.11\n",
       "0     2,563.24       1.28   37.78\n",
       "9        74.00      20.78   35.80\n",
       "6     1,653.88       3.55   35.70\n",
       "7       507.18       5.61   22.56\n",
       "8       922.83       1.28   22.43\n",
       "1     2,684.29       1.31   16.26"
      ]
     },
     "execution_count": 216,
     "metadata": {},
     "output_type": "execute_result"
    }
   ],
   "source": [
    "clusters.sort_values(by = ['amount', 'recency', 'frequency'], ascending = [False, True, False])"
   ]
  },
  {
   "cell_type": "code",
   "execution_count": 220,
   "id": "bd75f4b9-2ab0-4e95-9d39-91135ce2d27a",
   "metadata": {
    "tags": []
   },
   "outputs": [
    {
     "data": {
      "text/html": [
       "<div>\n",
       "<style scoped>\n",
       "    .dataframe tbody tr th:only-of-type {\n",
       "        vertical-align: middle;\n",
       "    }\n",
       "\n",
       "    .dataframe tbody tr th {\n",
       "        vertical-align: top;\n",
       "    }\n",
       "\n",
       "    .dataframe thead th {\n",
       "        text-align: right;\n",
       "    }\n",
       "</style>\n",
       "<table border=\"1\" class=\"dataframe\">\n",
       "  <thead>\n",
       "    <tr style=\"text-align: right;\">\n",
       "      <th></th>\n",
       "      <th>recency</th>\n",
       "      <th>frequency</th>\n",
       "      <th>amount</th>\n",
       "    </tr>\n",
       "    <tr>\n",
       "      <th>group</th>\n",
       "      <th></th>\n",
       "      <th></th>\n",
       "      <th></th>\n",
       "    </tr>\n",
       "  </thead>\n",
       "  <tbody>\n",
       "    <tr>\n",
       "      <th>0</th>\n",
       "      <td>2,612.50</td>\n",
       "      <td>1.30</td>\n",
       "      <td>29.03</td>\n",
       "    </tr>\n",
       "    <tr>\n",
       "      <th>1</th>\n",
       "      <td>193.65</td>\n",
       "      <td>10.62</td>\n",
       "      <td>42.02</td>\n",
       "    </tr>\n",
       "    <tr>\n",
       "      <th>2</th>\n",
       "      <td>162.10</td>\n",
       "      <td>2.40</td>\n",
       "      <td>41.11</td>\n",
       "    </tr>\n",
       "    <tr>\n",
       "      <th>3</th>\n",
       "      <td>1,147.20</td>\n",
       "      <td>1.49</td>\n",
       "      <td>112.51</td>\n",
       "    </tr>\n",
       "    <tr>\n",
       "      <th>4</th>\n",
       "      <td>448.58</td>\n",
       "      <td>6.58</td>\n",
       "      <td>261.22</td>\n",
       "    </tr>\n",
       "    <tr>\n",
       "      <th>5</th>\n",
       "      <td>1,017.09</td>\n",
       "      <td>2.64</td>\n",
       "      <td>25.60</td>\n",
       "    </tr>\n",
       "  </tbody>\n",
       "</table>\n",
       "</div>"
      ],
      "text/plain": [
       "       recency  frequency  amount\n",
       "group                            \n",
       "0     2,612.50       1.30   29.03\n",
       "1       193.65      10.62   42.02\n",
       "2       162.10       2.40   41.11\n",
       "3     1,147.20       1.49  112.51\n",
       "4       448.58       6.58  261.22\n",
       "5     1,017.09       2.64   25.60"
      ]
     },
     "execution_count": 220,
     "metadata": {},
     "output_type": "execute_result"
    }
   ],
   "source": [
    "#Cut at 6 clusters\n",
    "members = cut_tree(hcward, n_clusters = 6)\n",
    "groups, counts = np.unique(members, return_counts = True)\n",
    "segments = dict(zip(groups, counts))\n",
    "customer_sample['group'] = members.flatten()\n",
    "clusters = customer_sample[['recency', 'frequency', 'amount', 'group']].groupby('group').mean()\n",
    "clusters"
   ]
  },
  {
   "cell_type": "code",
   "execution_count": 222,
   "id": "219dfa5c-03e8-47bb-bc0c-de8379d728c6",
   "metadata": {
    "tags": []
   },
   "outputs": [
    {
     "data": {
      "text/html": [
       "<div>\n",
       "<style scoped>\n",
       "    .dataframe tbody tr th:only-of-type {\n",
       "        vertical-align: middle;\n",
       "    }\n",
       "\n",
       "    .dataframe tbody tr th {\n",
       "        vertical-align: top;\n",
       "    }\n",
       "\n",
       "    .dataframe thead th {\n",
       "        text-align: right;\n",
       "    }\n",
       "</style>\n",
       "<table border=\"1\" class=\"dataframe\">\n",
       "  <thead>\n",
       "    <tr style=\"text-align: right;\">\n",
       "      <th></th>\n",
       "      <th>recency</th>\n",
       "      <th>frequency</th>\n",
       "      <th>amount</th>\n",
       "    </tr>\n",
       "    <tr>\n",
       "      <th>group</th>\n",
       "      <th></th>\n",
       "      <th></th>\n",
       "      <th></th>\n",
       "    </tr>\n",
       "  </thead>\n",
       "  <tbody>\n",
       "    <tr>\n",
       "      <th>4</th>\n",
       "      <td>448.58</td>\n",
       "      <td>6.58</td>\n",
       "      <td>261.22</td>\n",
       "    </tr>\n",
       "    <tr>\n",
       "      <th>3</th>\n",
       "      <td>1,147.20</td>\n",
       "      <td>1.49</td>\n",
       "      <td>112.51</td>\n",
       "    </tr>\n",
       "    <tr>\n",
       "      <th>1</th>\n",
       "      <td>193.65</td>\n",
       "      <td>10.62</td>\n",
       "      <td>42.02</td>\n",
       "    </tr>\n",
       "    <tr>\n",
       "      <th>2</th>\n",
       "      <td>162.10</td>\n",
       "      <td>2.40</td>\n",
       "      <td>41.11</td>\n",
       "    </tr>\n",
       "    <tr>\n",
       "      <th>0</th>\n",
       "      <td>2,612.50</td>\n",
       "      <td>1.30</td>\n",
       "      <td>29.03</td>\n",
       "    </tr>\n",
       "    <tr>\n",
       "      <th>5</th>\n",
       "      <td>1,017.09</td>\n",
       "      <td>2.64</td>\n",
       "      <td>25.60</td>\n",
       "    </tr>\n",
       "  </tbody>\n",
       "</table>\n",
       "</div>"
      ],
      "text/plain": [
       "       recency  frequency  amount\n",
       "group                            \n",
       "4       448.58       6.58  261.22\n",
       "3     1,147.20       1.49  112.51\n",
       "1       193.65      10.62   42.02\n",
       "2       162.10       2.40   41.11\n",
       "0     2,612.50       1.30   29.03\n",
       "5     1,017.09       2.64   25.60"
      ]
     },
     "execution_count": 222,
     "metadata": {},
     "output_type": "execute_result"
    }
   ],
   "source": [
    "clusters.sort_values(by = ['amount', 'recency', 'frequency'], ascending = [False, True, False])"
   ]
  },
  {
   "cell_type": "code",
   "execution_count": 224,
   "id": "6b7c92d9-14dd-4100-bf2e-f5ca89e391c6",
   "metadata": {
    "tags": []
   },
   "outputs": [],
   "source": [
    "clusters['n_customers'] = customer_sample['group'].value_counts()\n",
    "clusters['cluster_names'] = ['lost', 'loyal', 'promising', \"can't lose them\",\n",
    "                            'champions', 'about to sleep']"
   ]
  },
  {
   "cell_type": "code",
   "execution_count": 226,
   "id": "9e60ee75-827b-4bef-8864-e107515ff399",
   "metadata": {
    "tags": []
   },
   "outputs": [
    {
     "data": {
      "text/html": [
       "<div>\n",
       "<style scoped>\n",
       "    .dataframe tbody tr th:only-of-type {\n",
       "        vertical-align: middle;\n",
       "    }\n",
       "\n",
       "    .dataframe tbody tr th {\n",
       "        vertical-align: top;\n",
       "    }\n",
       "\n",
       "    .dataframe thead th {\n",
       "        text-align: right;\n",
       "    }\n",
       "</style>\n",
       "<table border=\"1\" class=\"dataframe\">\n",
       "  <thead>\n",
       "    <tr style=\"text-align: right;\">\n",
       "      <th></th>\n",
       "      <th>recency</th>\n",
       "      <th>frequency</th>\n",
       "      <th>amount</th>\n",
       "      <th>n_customers</th>\n",
       "      <th>cluster_names</th>\n",
       "    </tr>\n",
       "    <tr>\n",
       "      <th>group</th>\n",
       "      <th></th>\n",
       "      <th></th>\n",
       "      <th></th>\n",
       "      <th></th>\n",
       "      <th></th>\n",
       "    </tr>\n",
       "  </thead>\n",
       "  <tbody>\n",
       "    <tr>\n",
       "      <th>0</th>\n",
       "      <td>2,612.50</td>\n",
       "      <td>1.30</td>\n",
       "      <td>29.03</td>\n",
       "      <td>521</td>\n",
       "      <td>lost</td>\n",
       "    </tr>\n",
       "    <tr>\n",
       "      <th>1</th>\n",
       "      <td>193.65</td>\n",
       "      <td>10.62</td>\n",
       "      <td>42.02</td>\n",
       "      <td>130</td>\n",
       "      <td>loyal</td>\n",
       "    </tr>\n",
       "    <tr>\n",
       "      <th>2</th>\n",
       "      <td>162.10</td>\n",
       "      <td>2.40</td>\n",
       "      <td>41.11</td>\n",
       "      <td>306</td>\n",
       "      <td>promising</td>\n",
       "    </tr>\n",
       "    <tr>\n",
       "      <th>3</th>\n",
       "      <td>1,147.20</td>\n",
       "      <td>1.49</td>\n",
       "      <td>112.51</td>\n",
       "      <td>249</td>\n",
       "      <td>can't lose them</td>\n",
       "    </tr>\n",
       "    <tr>\n",
       "      <th>4</th>\n",
       "      <td>448.58</td>\n",
       "      <td>6.58</td>\n",
       "      <td>261.22</td>\n",
       "      <td>83</td>\n",
       "      <td>champions</td>\n",
       "    </tr>\n",
       "    <tr>\n",
       "      <th>5</th>\n",
       "      <td>1,017.09</td>\n",
       "      <td>2.64</td>\n",
       "      <td>25.60</td>\n",
       "      <td>553</td>\n",
       "      <td>about to sleep</td>\n",
       "    </tr>\n",
       "  </tbody>\n",
       "</table>\n",
       "</div>"
      ],
      "text/plain": [
       "       recency  frequency  amount  n_customers    cluster_names\n",
       "group                                                          \n",
       "0     2,612.50       1.30   29.03          521             lost\n",
       "1       193.65      10.62   42.02          130            loyal\n",
       "2       162.10       2.40   41.11          306        promising\n",
       "3     1,147.20       1.49  112.51          249  can't lose them\n",
       "4       448.58       6.58  261.22           83        champions\n",
       "5     1,017.09       2.64   25.60          553   about to sleep"
      ]
     },
     "execution_count": 226,
     "metadata": {},
     "output_type": "execute_result"
    }
   ],
   "source": [
    "clusters"
   ]
  },
  {
   "cell_type": "markdown",
   "id": "ec242209-e635-4062-ac65-b62cf190adf1",
   "metadata": {
    "tags": []
   },
   "source": [
    "### Visualization"
   ]
  },
  {
   "cell_type": "code",
   "execution_count": 233,
   "id": "3391be23-5267-45bc-94d3-6ab7a31e2f06",
   "metadata": {
    "tags": []
   },
   "outputs": [
    {
     "data": {
      "text/plain": [
       "(0.00, 100.00, 0.00, 100.00)"
      ]
     },
     "execution_count": 233,
     "metadata": {},
     "output_type": "execute_result"
    },
    {
     "data": {
      "image/png": "[encoded data removed]",
      "text/plain": [
       "<Figure size 1200x800 with 1 Axes>"
      ]
     },
     "metadata": {},
     "output_type": "display_data"
    }
   ],
   "source": [
    "clusters.sort_values(by = ['recency', 'amount'], ascending = [True, False], inplace = True)\n",
    "\n",
    "squarify.plot(sizes = clusters['n_customers'], \n",
    "            label = clusters['cluster_names'], alpha = .45)\n",
    "plt.title(\"RFM Segments\", fontsize = 22)\n",
    "plt.axis('off')"
   ]
  },
  {
   "cell_type": "code",
   "execution_count": null,
   "id": "ac6dd712-b742-421c-ab82-9ee36ed90857",
   "metadata": {},
   "outputs": [],
   "source": []
  }
 ],
 "metadata": {
  "kernelspec": {
   "display_name": "Python 3 (ipykernel)",
   "language": "python",
   "name": "python3"
  },
  "language_info": {
   "codemirror_mode": {
    "name": "ipython",
    "version": 3
   },
   "file_extension": ".py",
   "mimetype": "text/x-python",
   "name": "python",
   "nbconvert_exporter": "python",
   "pygments_lexer": "ipython3",
   "version": "3.11.5"
  }
 },
 "nbformat": 4,
 "nbformat_minor": 5
}
