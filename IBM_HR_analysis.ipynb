{
 "cells": [
  {
   "cell_type": "markdown",
   "id": "e7c38bdf-2128-497a-b2ed-ff410e7e2418",
   "metadata": {},
   "source": [
    "# IBM Employees Analytics: Attrition and Performance\n",
    "\n",
    "## Introduction\n",
    "\n",
    "\n",
    "As an HR manager, you want to retain your best employees within the company, but you can't constantly follow-up with each and every one of them, as that would be very time and resource consuming and even if you do, it's not guarantee that you recognize an employee turnover early enough to prevent it. Instead you might relay on an HR analytic solution to understand what are the most frequent situations why an employee decides to leave and build an early warning prediction system, so that you can do something to address it.  \n",
    "\n",
    "In this notebook we will explore a dataset from IBM. It contains approximately 1500 employee observations with 35 features including performance rating, monthly income, education, job satisfaction, and more.  \n",
    "The goal is to understand the reasons behind employee turnover, based on factors such as gender, age, income, distance from home and other relevant features and to come up with a model to classify an employee's risk of attrition. At the end of the day we want to come up with retention strategies and recommendations to prevent  on targeted employees\n",
    "\n",
    "The analysis is focused on the question what factors contributed most to employee turnover and to create a model that can predict if a certain employee will leave the company or not. The goal is to . Overall, the implementation of this model will allow management to create better decision-making actions.\n"
   ]
  },
  {
   "cell_type": "code",
   "execution_count": 16,
   "id": "5f8a9760-8c2f-42f0-8d8b-cb86a8bd8cb6",
   "metadata": {
    "tags": []
   },
   "outputs": [],
   "source": [
    "# Import the necessary modules for analysis and viz\n",
    "import pandas as pd\n",
    "import numpy as np\n",
    "import matplotlib.pyplot as plt\n",
    "import seaborn as sns"
   ]
  },
  {
   "cell_type": "code",
   "execution_count": 17,
   "id": "917cf9de-da03-42b5-af8c-c24d78da1b1c",
   "metadata": {
    "tags": []
   },
   "outputs": [],
   "source": [
    "# set notebook environment\n",
    "%matplotlib inline\n",
    "\n",
    "sns.set_style(\"whitegrid\")\n",
    "plt.style.use(\"fivethirtyeight\")\n",
    "\n",
    "%precision %.3f\n",
    "pd.options.display.float_format = '{:,.2f}'.format\n",
    "plt.rcParams[\"figure.figsize\"] = 10,8\n",
    "\n",
    "pd.set_option('display.width', 100, \n",
    "              'display.max_rows', 81,\n",
    "              'display.max_columns', None\n",
    "             )\n",
    "\n",
    "\n",
    "# Don't wrap repr(DataFrame) across additional lines\n",
    "pd.set_option(\"display.expand_frame_repr\", False)"
   ]
  },
  {
   "cell_type": "code",
   "execution_count": 18,
   "id": "a9a284e3-ac05-479e-8328-ed3a8f2598f6",
   "metadata": {
    "tags": []
   },
   "outputs": [
    {
     "data": {
      "text/html": [
       "<div>\n",
       "<style scoped>\n",
       "    .dataframe tbody tr th:only-of-type {\n",
       "        vertical-align: middle;\n",
       "    }\n",
       "\n",
       "    .dataframe tbody tr th {\n",
       "        vertical-align: top;\n",
       "    }\n",
       "\n",
       "    .dataframe thead th {\n",
       "        text-align: right;\n",
       "    }\n",
       "</style>\n",
       "<table border=\"1\" class=\"dataframe\">\n",
       "  <thead>\n",
       "    <tr style=\"text-align: right;\">\n",
       "      <th></th>\n",
       "      <th>Age</th>\n",
       "      <th>Attrition</th>\n",
       "      <th>BusinessTravel</th>\n",
       "      <th>DailyRate</th>\n",
       "      <th>Department</th>\n",
       "      <th>DistanceFromHome</th>\n",
       "      <th>Education</th>\n",
       "      <th>EducationField</th>\n",
       "      <th>EmployeeCount</th>\n",
       "      <th>EmployeeNumber</th>\n",
       "      <th>EnvironmentSatisfaction</th>\n",
       "      <th>Gender</th>\n",
       "      <th>HourlyRate</th>\n",
       "      <th>JobInvolvement</th>\n",
       "      <th>JobLevel</th>\n",
       "      <th>JobRole</th>\n",
       "      <th>JobSatisfaction</th>\n",
       "      <th>MaritalStatus</th>\n",
       "      <th>MonthlyIncome</th>\n",
       "      <th>MonthlyRate</th>\n",
       "      <th>NumCompaniesWorked</th>\n",
       "      <th>Over18</th>\n",
       "      <th>OverTime</th>\n",
       "      <th>PercentSalaryHike</th>\n",
       "      <th>PerformanceRating</th>\n",
       "      <th>RelationshipSatisfaction</th>\n",
       "      <th>StandardHours</th>\n",
       "      <th>StockOptionLevel</th>\n",
       "      <th>TotalWorkingYears</th>\n",
       "      <th>TrainingTimesLastYear</th>\n",
       "      <th>WorkLifeBalance</th>\n",
       "      <th>YearsAtCompany</th>\n",
       "      <th>YearsInCurrentRole</th>\n",
       "      <th>YearsSinceLastPromotion</th>\n",
       "      <th>YearsWithCurrManager</th>\n",
       "    </tr>\n",
       "  </thead>\n",
       "  <tbody>\n",
       "    <tr>\n",
       "      <th>0</th>\n",
       "      <td>41</td>\n",
       "      <td>Yes</td>\n",
       "      <td>Travel_Rarely</td>\n",
       "      <td>1102</td>\n",
       "      <td>Sales</td>\n",
       "      <td>1</td>\n",
       "      <td>2</td>\n",
       "      <td>Life Sciences</td>\n",
       "      <td>1</td>\n",
       "      <td>1</td>\n",
       "      <td>2</td>\n",
       "      <td>Female</td>\n",
       "      <td>94</td>\n",
       "      <td>3</td>\n",
       "      <td>2</td>\n",
       "      <td>Sales Executive</td>\n",
       "      <td>4</td>\n",
       "      <td>Single</td>\n",
       "      <td>5993</td>\n",
       "      <td>19479</td>\n",
       "      <td>8</td>\n",
       "      <td>Y</td>\n",
       "      <td>Yes</td>\n",
       "      <td>11</td>\n",
       "      <td>3</td>\n",
       "      <td>1</td>\n",
       "      <td>80</td>\n",
       "      <td>0</td>\n",
       "      <td>8</td>\n",
       "      <td>0</td>\n",
       "      <td>1</td>\n",
       "      <td>6</td>\n",
       "      <td>4</td>\n",
       "      <td>0</td>\n",
       "      <td>5</td>\n",
       "    </tr>\n",
       "    <tr>\n",
       "      <th>1</th>\n",
       "      <td>49</td>\n",
       "      <td>No</td>\n",
       "      <td>Travel_Frequently</td>\n",
       "      <td>279</td>\n",
       "      <td>Research &amp; Development</td>\n",
       "      <td>8</td>\n",
       "      <td>1</td>\n",
       "      <td>Life Sciences</td>\n",
       "      <td>1</td>\n",
       "      <td>2</td>\n",
       "      <td>3</td>\n",
       "      <td>Male</td>\n",
       "      <td>61</td>\n",
       "      <td>2</td>\n",
       "      <td>2</td>\n",
       "      <td>Research Scientist</td>\n",
       "      <td>2</td>\n",
       "      <td>Married</td>\n",
       "      <td>5130</td>\n",
       "      <td>24907</td>\n",
       "      <td>1</td>\n",
       "      <td>Y</td>\n",
       "      <td>No</td>\n",
       "      <td>23</td>\n",
       "      <td>4</td>\n",
       "      <td>4</td>\n",
       "      <td>80</td>\n",
       "      <td>1</td>\n",
       "      <td>10</td>\n",
       "      <td>3</td>\n",
       "      <td>3</td>\n",
       "      <td>10</td>\n",
       "      <td>7</td>\n",
       "      <td>1</td>\n",
       "      <td>7</td>\n",
       "    </tr>\n",
       "    <tr>\n",
       "      <th>2</th>\n",
       "      <td>37</td>\n",
       "      <td>Yes</td>\n",
       "      <td>Travel_Rarely</td>\n",
       "      <td>1373</td>\n",
       "      <td>Research &amp; Development</td>\n",
       "      <td>2</td>\n",
       "      <td>2</td>\n",
       "      <td>Other</td>\n",
       "      <td>1</td>\n",
       "      <td>4</td>\n",
       "      <td>4</td>\n",
       "      <td>Male</td>\n",
       "      <td>92</td>\n",
       "      <td>2</td>\n",
       "      <td>1</td>\n",
       "      <td>Laboratory Technician</td>\n",
       "      <td>3</td>\n",
       "      <td>Single</td>\n",
       "      <td>2090</td>\n",
       "      <td>2396</td>\n",
       "      <td>6</td>\n",
       "      <td>Y</td>\n",
       "      <td>Yes</td>\n",
       "      <td>15</td>\n",
       "      <td>3</td>\n",
       "      <td>2</td>\n",
       "      <td>80</td>\n",
       "      <td>0</td>\n",
       "      <td>7</td>\n",
       "      <td>3</td>\n",
       "      <td>3</td>\n",
       "      <td>0</td>\n",
       "      <td>0</td>\n",
       "      <td>0</td>\n",
       "      <td>0</td>\n",
       "    </tr>\n",
       "    <tr>\n",
       "      <th>3</th>\n",
       "      <td>33</td>\n",
       "      <td>No</td>\n",
       "      <td>Travel_Frequently</td>\n",
       "      <td>1392</td>\n",
       "      <td>Research &amp; Development</td>\n",
       "      <td>3</td>\n",
       "      <td>4</td>\n",
       "      <td>Life Sciences</td>\n",
       "      <td>1</td>\n",
       "      <td>5</td>\n",
       "      <td>4</td>\n",
       "      <td>Female</td>\n",
       "      <td>56</td>\n",
       "      <td>3</td>\n",
       "      <td>1</td>\n",
       "      <td>Research Scientist</td>\n",
       "      <td>3</td>\n",
       "      <td>Married</td>\n",
       "      <td>2909</td>\n",
       "      <td>23159</td>\n",
       "      <td>1</td>\n",
       "      <td>Y</td>\n",
       "      <td>Yes</td>\n",
       "      <td>11</td>\n",
       "      <td>3</td>\n",
       "      <td>3</td>\n",
       "      <td>80</td>\n",
       "      <td>0</td>\n",
       "      <td>8</td>\n",
       "      <td>3</td>\n",
       "      <td>3</td>\n",
       "      <td>8</td>\n",
       "      <td>7</td>\n",
       "      <td>3</td>\n",
       "      <td>0</td>\n",
       "    </tr>\n",
       "    <tr>\n",
       "      <th>4</th>\n",
       "      <td>27</td>\n",
       "      <td>No</td>\n",
       "      <td>Travel_Rarely</td>\n",
       "      <td>591</td>\n",
       "      <td>Research &amp; Development</td>\n",
       "      <td>2</td>\n",
       "      <td>1</td>\n",
       "      <td>Medical</td>\n",
       "      <td>1</td>\n",
       "      <td>7</td>\n",
       "      <td>1</td>\n",
       "      <td>Male</td>\n",
       "      <td>40</td>\n",
       "      <td>3</td>\n",
       "      <td>1</td>\n",
       "      <td>Laboratory Technician</td>\n",
       "      <td>2</td>\n",
       "      <td>Married</td>\n",
       "      <td>3468</td>\n",
       "      <td>16632</td>\n",
       "      <td>9</td>\n",
       "      <td>Y</td>\n",
       "      <td>No</td>\n",
       "      <td>12</td>\n",
       "      <td>3</td>\n",
       "      <td>4</td>\n",
       "      <td>80</td>\n",
       "      <td>1</td>\n",
       "      <td>6</td>\n",
       "      <td>3</td>\n",
       "      <td>3</td>\n",
       "      <td>2</td>\n",
       "      <td>2</td>\n",
       "      <td>2</td>\n",
       "      <td>2</td>\n",
       "    </tr>\n",
       "  </tbody>\n",
       "</table>\n",
       "</div>"
      ],
      "text/plain": [
       "   Age Attrition     BusinessTravel  DailyRate              Department  DistanceFromHome  Education EducationField  EmployeeCount  EmployeeNumber  EnvironmentSatisfaction  Gender  HourlyRate  JobInvolvement  JobLevel                JobRole  JobSatisfaction MaritalStatus  MonthlyIncome  MonthlyRate  NumCompaniesWorked Over18 OverTime  PercentSalaryHike  PerformanceRating  RelationshipSatisfaction  StandardHours  StockOptionLevel  TotalWorkingYears  TrainingTimesLastYear  WorkLifeBalance  YearsAtCompany  YearsInCurrentRole  YearsSinceLastPromotion  YearsWithCurrManager\n",
       "0   41       Yes      Travel_Rarely       1102                   Sales                 1          2  Life Sciences              1               1                        2  Female          94               3         2        Sales Executive                4        Single           5993        19479                   8      Y      Yes                 11                  3                         1             80                 0                  8                      0                1               6                   4                        0                     5\n",
       "1   49        No  Travel_Frequently        279  Research & Development                 8          1  Life Sciences              1               2                        3    Male          61               2         2     Research Scientist                2       Married           5130        24907                   1      Y       No                 23                  4                         4             80                 1                 10                      3                3              10                   7                        1                     7\n",
       "2   37       Yes      Travel_Rarely       1373  Research & Development                 2          2          Other              1               4                        4    Male          92               2         1  Laboratory Technician                3        Single           2090         2396                   6      Y      Yes                 15                  3                         2             80                 0                  7                      3                3               0                   0                        0                     0\n",
       "3   33        No  Travel_Frequently       1392  Research & Development                 3          4  Life Sciences              1               5                        4  Female          56               3         1     Research Scientist                3       Married           2909        23159                   1      Y      Yes                 11                  3                         3             80                 0                  8                      3                3               8                   7                        3                     0\n",
       "4   27        No      Travel_Rarely        591  Research & Development                 2          1        Medical              1               7                        1    Male          40               3         1  Laboratory Technician                2       Married           3468        16632                   9      Y       No                 12                  3                         4             80                 1                  6                      3                3               2                   2                        2                     2"
      ]
     },
     "execution_count": 18,
     "metadata": {},
     "output_type": "execute_result"
    }
   ],
   "source": [
    "# Load the dataset\n",
    "df = pd.read_csv(\"./Datasets/WA_Fn-UseC_-HR-Employee-Attrition.csv\")\n",
    "df.head()"
   ]
  },
  {
   "cell_type": "markdown",
   "id": "be3d416e-db18-42a2-b35e-4d6fe4fdec61",
   "metadata": {},
   "source": [
    "## Get to Know Your Data\n"
   ]
  },
  {
   "cell_type": "code",
   "execution_count": 20,
   "id": "8fe8bc8f-d734-4ee7-bd35-6890b3c8c3b4",
   "metadata": {
    "tags": []
   },
   "outputs": [
    {
     "name": "stdout",
     "output_type": "stream",
     "text": [
      "<class 'pandas.core.frame.DataFrame'>\n",
      "RangeIndex: 1470 entries, 0 to 1469\n",
      "Data columns (total 35 columns):\n",
      " #   Column                    Non-Null Count  Dtype \n",
      "---  ------                    --------------  ----- \n",
      " 0   Age                       1470 non-null   int64 \n",
      " 1   Attrition                 1470 non-null   object\n",
      " 2   BusinessTravel            1470 non-null   object\n",
      " 3   DailyRate                 1470 non-null   int64 \n",
      " 4   Department                1470 non-null   object\n",
      " 5   DistanceFromHome          1470 non-null   int64 \n",
      " 6   Education                 1470 non-null   int64 \n",
      " 7   EducationField            1470 non-null   object\n",
      " 8   EmployeeCount             1470 non-null   int64 \n",
      " 9   EmployeeNumber            1470 non-null   int64 \n",
      " 10  EnvironmentSatisfaction   1470 non-null   int64 \n",
      " 11  Gender                    1470 non-null   object\n",
      " 12  HourlyRate                1470 non-null   int64 \n",
      " 13  JobInvolvement            1470 non-null   int64 \n",
      " 14  JobLevel                  1470 non-null   int64 \n",
      " 15  JobRole                   1470 non-null   object\n",
      " 16  JobSatisfaction           1470 non-null   int64 \n",
      " 17  MaritalStatus             1470 non-null   object\n",
      " 18  MonthlyIncome             1470 non-null   int64 \n",
      " 19  MonthlyRate               1470 non-null   int64 \n",
      " 20  NumCompaniesWorked        1470 non-null   int64 \n",
      " 21  Over18                    1470 non-null   object\n",
      " 22  OverTime                  1470 non-null   object\n",
      " 23  PercentSalaryHike         1470 non-null   int64 \n",
      " 24  PerformanceRating         1470 non-null   int64 \n",
      " 25  RelationshipSatisfaction  1470 non-null   int64 \n",
      " 26  StandardHours             1470 non-null   int64 \n",
      " 27  StockOptionLevel          1470 non-null   int64 \n",
      " 28  TotalWorkingYears         1470 non-null   int64 \n",
      " 29  TrainingTimesLastYear     1470 non-null   int64 \n",
      " 30  WorkLifeBalance           1470 non-null   int64 \n",
      " 31  YearsAtCompany            1470 non-null   int64 \n",
      " 32  YearsInCurrentRole        1470 non-null   int64 \n",
      " 33  YearsSinceLastPromotion   1470 non-null   int64 \n",
      " 34  YearsWithCurrManager      1470 non-null   int64 \n",
      "dtypes: int64(26), object(9)\n",
      "memory usage: 1.1 MB\n"
     ]
    }
   ],
   "source": [
    "df.info(memory_usage='deep')"
   ]
  },
  {
   "cell_type": "code",
   "execution_count": 21,
   "id": "cac7c1ee-4aca-4dd9-a0fb-56eb6ce5d536",
   "metadata": {
    "tags": []
   },
   "outputs": [
    {
     "name": "stdout",
     "output_type": "stream",
     "text": [
      "The dataset contains 1470 samples and 35 features\n"
     ]
    }
   ],
   "source": [
    "print(f\"The dataset contains {df.shape[0]} samples and \"\n",
    "      f\"{df.shape[1]} features\")"
   ]
  },
  {
   "cell_type": "markdown",
   "id": "ac8034a8-5a48-4570-a059-535198f2c9d4",
   "metadata": {},
   "source": [
    "The cleaning of the data is usually very time consuming and takes around 80% of the whole process. This dataset is, however, clean and without missing values."
   ]
  },
  {
   "cell_type": "code",
   "execution_count": 28,
   "id": "0e0588ab-3b38-40e4-af21-8c1f1cd9c6ed",
   "metadata": {
    "tags": []
   },
   "outputs": [
    {
     "data": {
      "text/html": [
       "<div>\n",
       "<style scoped>\n",
       "    .dataframe tbody tr th:only-of-type {\n",
       "        vertical-align: middle;\n",
       "    }\n",
       "\n",
       "    .dataframe tbody tr th {\n",
       "        vertical-align: top;\n",
       "    }\n",
       "\n",
       "    .dataframe thead th {\n",
       "        text-align: right;\n",
       "    }\n",
       "</style>\n",
       "<table border=\"1\" class=\"dataframe\">\n",
       "  <thead>\n",
       "    <tr style=\"text-align: right;\">\n",
       "      <th></th>\n",
       "      <th>Age</th>\n",
       "      <th>DailyRate</th>\n",
       "      <th>DistanceFromHome</th>\n",
       "      <th>Education</th>\n",
       "      <th>EmployeeCount</th>\n",
       "      <th>EmployeeNumber</th>\n",
       "      <th>EnvironmentSatisfaction</th>\n",
       "      <th>HourlyRate</th>\n",
       "      <th>JobInvolvement</th>\n",
       "      <th>JobLevel</th>\n",
       "      <th>JobSatisfaction</th>\n",
       "      <th>MonthlyIncome</th>\n",
       "      <th>MonthlyRate</th>\n",
       "      <th>NumCompaniesWorked</th>\n",
       "      <th>PercentSalaryHike</th>\n",
       "      <th>PerformanceRating</th>\n",
       "      <th>RelationshipSatisfaction</th>\n",
       "      <th>StandardHours</th>\n",
       "      <th>StockOptionLevel</th>\n",
       "      <th>TotalWorkingYears</th>\n",
       "      <th>TrainingTimesLastYear</th>\n",
       "      <th>WorkLifeBalance</th>\n",
       "      <th>YearsAtCompany</th>\n",
       "      <th>YearsInCurrentRole</th>\n",
       "      <th>YearsSinceLastPromotion</th>\n",
       "      <th>YearsWithCurrManager</th>\n",
       "    </tr>\n",
       "  </thead>\n",
       "  <tbody>\n",
       "    <tr>\n",
       "      <th>count</th>\n",
       "      <td>1,470.00</td>\n",
       "      <td>1,470.00</td>\n",
       "      <td>1,470.00</td>\n",
       "      <td>1,470.00</td>\n",
       "      <td>1,470.00</td>\n",
       "      <td>1,470.00</td>\n",
       "      <td>1,470.00</td>\n",
       "      <td>1,470.00</td>\n",
       "      <td>1,470.00</td>\n",
       "      <td>1,470.00</td>\n",
       "      <td>1,470.00</td>\n",
       "      <td>1,470.00</td>\n",
       "      <td>1,470.00</td>\n",
       "      <td>1,470.00</td>\n",
       "      <td>1,470.00</td>\n",
       "      <td>1,470.00</td>\n",
       "      <td>1,470.00</td>\n",
       "      <td>1,470.00</td>\n",
       "      <td>1,470.00</td>\n",
       "      <td>1,470.00</td>\n",
       "      <td>1,470.00</td>\n",
       "      <td>1,470.00</td>\n",
       "      <td>1,470.00</td>\n",
       "      <td>1,470.00</td>\n",
       "      <td>1,470.00</td>\n",
       "      <td>1,470.00</td>\n",
       "    </tr>\n",
       "    <tr>\n",
       "      <th>mean</th>\n",
       "      <td>36.92</td>\n",
       "      <td>802.49</td>\n",
       "      <td>9.19</td>\n",
       "      <td>2.91</td>\n",
       "      <td>1.00</td>\n",
       "      <td>1,024.87</td>\n",
       "      <td>2.72</td>\n",
       "      <td>65.89</td>\n",
       "      <td>2.73</td>\n",
       "      <td>2.06</td>\n",
       "      <td>2.73</td>\n",
       "      <td>6,502.93</td>\n",
       "      <td>14,313.10</td>\n",
       "      <td>2.69</td>\n",
       "      <td>15.21</td>\n",
       "      <td>3.15</td>\n",
       "      <td>2.71</td>\n",
       "      <td>80.00</td>\n",
       "      <td>0.79</td>\n",
       "      <td>11.28</td>\n",
       "      <td>2.80</td>\n",
       "      <td>2.76</td>\n",
       "      <td>7.01</td>\n",
       "      <td>4.23</td>\n",
       "      <td>2.19</td>\n",
       "      <td>4.12</td>\n",
       "    </tr>\n",
       "    <tr>\n",
       "      <th>std</th>\n",
       "      <td>9.14</td>\n",
       "      <td>403.51</td>\n",
       "      <td>8.11</td>\n",
       "      <td>1.02</td>\n",
       "      <td>0.00</td>\n",
       "      <td>602.02</td>\n",
       "      <td>1.09</td>\n",
       "      <td>20.33</td>\n",
       "      <td>0.71</td>\n",
       "      <td>1.11</td>\n",
       "      <td>1.10</td>\n",
       "      <td>4,707.96</td>\n",
       "      <td>7,117.79</td>\n",
       "      <td>2.50</td>\n",
       "      <td>3.66</td>\n",
       "      <td>0.36</td>\n",
       "      <td>1.08</td>\n",
       "      <td>0.00</td>\n",
       "      <td>0.85</td>\n",
       "      <td>7.78</td>\n",
       "      <td>1.29</td>\n",
       "      <td>0.71</td>\n",
       "      <td>6.13</td>\n",
       "      <td>3.62</td>\n",
       "      <td>3.22</td>\n",
       "      <td>3.57</td>\n",
       "    </tr>\n",
       "    <tr>\n",
       "      <th>min</th>\n",
       "      <td>18.00</td>\n",
       "      <td>102.00</td>\n",
       "      <td>1.00</td>\n",
       "      <td>1.00</td>\n",
       "      <td>1.00</td>\n",
       "      <td>1.00</td>\n",
       "      <td>1.00</td>\n",
       "      <td>30.00</td>\n",
       "      <td>1.00</td>\n",
       "      <td>1.00</td>\n",
       "      <td>1.00</td>\n",
       "      <td>1,009.00</td>\n",
       "      <td>2,094.00</td>\n",
       "      <td>0.00</td>\n",
       "      <td>11.00</td>\n",
       "      <td>3.00</td>\n",
       "      <td>1.00</td>\n",
       "      <td>80.00</td>\n",
       "      <td>0.00</td>\n",
       "      <td>0.00</td>\n",
       "      <td>0.00</td>\n",
       "      <td>1.00</td>\n",
       "      <td>0.00</td>\n",
       "      <td>0.00</td>\n",
       "      <td>0.00</td>\n",
       "      <td>0.00</td>\n",
       "    </tr>\n",
       "    <tr>\n",
       "      <th>25%</th>\n",
       "      <td>30.00</td>\n",
       "      <td>465.00</td>\n",
       "      <td>2.00</td>\n",
       "      <td>2.00</td>\n",
       "      <td>1.00</td>\n",
       "      <td>491.25</td>\n",
       "      <td>2.00</td>\n",
       "      <td>48.00</td>\n",
       "      <td>2.00</td>\n",
       "      <td>1.00</td>\n",
       "      <td>2.00</td>\n",
       "      <td>2,911.00</td>\n",
       "      <td>8,047.00</td>\n",
       "      <td>1.00</td>\n",
       "      <td>12.00</td>\n",
       "      <td>3.00</td>\n",
       "      <td>2.00</td>\n",
       "      <td>80.00</td>\n",
       "      <td>0.00</td>\n",
       "      <td>6.00</td>\n",
       "      <td>2.00</td>\n",
       "      <td>2.00</td>\n",
       "      <td>3.00</td>\n",
       "      <td>2.00</td>\n",
       "      <td>0.00</td>\n",
       "      <td>2.00</td>\n",
       "    </tr>\n",
       "    <tr>\n",
       "      <th>50%</th>\n",
       "      <td>36.00</td>\n",
       "      <td>802.00</td>\n",
       "      <td>7.00</td>\n",
       "      <td>3.00</td>\n",
       "      <td>1.00</td>\n",
       "      <td>1,020.50</td>\n",
       "      <td>3.00</td>\n",
       "      <td>66.00</td>\n",
       "      <td>3.00</td>\n",
       "      <td>2.00</td>\n",
       "      <td>3.00</td>\n",
       "      <td>4,919.00</td>\n",
       "      <td>14,235.50</td>\n",
       "      <td>2.00</td>\n",
       "      <td>14.00</td>\n",
       "      <td>3.00</td>\n",
       "      <td>3.00</td>\n",
       "      <td>80.00</td>\n",
       "      <td>1.00</td>\n",
       "      <td>10.00</td>\n",
       "      <td>3.00</td>\n",
       "      <td>3.00</td>\n",
       "      <td>5.00</td>\n",
       "      <td>3.00</td>\n",
       "      <td>1.00</td>\n",
       "      <td>3.00</td>\n",
       "    </tr>\n",
       "    <tr>\n",
       "      <th>75%</th>\n",
       "      <td>43.00</td>\n",
       "      <td>1,157.00</td>\n",
       "      <td>14.00</td>\n",
       "      <td>4.00</td>\n",
       "      <td>1.00</td>\n",
       "      <td>1,555.75</td>\n",
       "      <td>4.00</td>\n",
       "      <td>83.75</td>\n",
       "      <td>3.00</td>\n",
       "      <td>3.00</td>\n",
       "      <td>4.00</td>\n",
       "      <td>8,379.00</td>\n",
       "      <td>20,461.50</td>\n",
       "      <td>4.00</td>\n",
       "      <td>18.00</td>\n",
       "      <td>3.00</td>\n",
       "      <td>4.00</td>\n",
       "      <td>80.00</td>\n",
       "      <td>1.00</td>\n",
       "      <td>15.00</td>\n",
       "      <td>3.00</td>\n",
       "      <td>3.00</td>\n",
       "      <td>9.00</td>\n",
       "      <td>7.00</td>\n",
       "      <td>3.00</td>\n",
       "      <td>7.00</td>\n",
       "    </tr>\n",
       "    <tr>\n",
       "      <th>max</th>\n",
       "      <td>60.00</td>\n",
       "      <td>1,499.00</td>\n",
       "      <td>29.00</td>\n",
       "      <td>5.00</td>\n",
       "      <td>1.00</td>\n",
       "      <td>2,068.00</td>\n",
       "      <td>4.00</td>\n",
       "      <td>100.00</td>\n",
       "      <td>4.00</td>\n",
       "      <td>5.00</td>\n",
       "      <td>4.00</td>\n",
       "      <td>19,999.00</td>\n",
       "      <td>26,999.00</td>\n",
       "      <td>9.00</td>\n",
       "      <td>25.00</td>\n",
       "      <td>4.00</td>\n",
       "      <td>4.00</td>\n",
       "      <td>80.00</td>\n",
       "      <td>3.00</td>\n",
       "      <td>40.00</td>\n",
       "      <td>6.00</td>\n",
       "      <td>4.00</td>\n",
       "      <td>40.00</td>\n",
       "      <td>18.00</td>\n",
       "      <td>15.00</td>\n",
       "      <td>17.00</td>\n",
       "    </tr>\n",
       "  </tbody>\n",
       "</table>\n",
       "</div>"
      ],
      "text/plain": [
       "           Age  DailyRate  DistanceFromHome  Education  EmployeeCount  EmployeeNumber  EnvironmentSatisfaction  HourlyRate  JobInvolvement  JobLevel  JobSatisfaction  MonthlyIncome  MonthlyRate  NumCompaniesWorked  PercentSalaryHike  PerformanceRating  RelationshipSatisfaction  StandardHours  StockOptionLevel  TotalWorkingYears  TrainingTimesLastYear  WorkLifeBalance  YearsAtCompany  YearsInCurrentRole  YearsSinceLastPromotion  YearsWithCurrManager\n",
       "count 1,470.00   1,470.00          1,470.00   1,470.00       1,470.00        1,470.00                 1,470.00    1,470.00        1,470.00  1,470.00         1,470.00       1,470.00     1,470.00            1,470.00           1,470.00           1,470.00                  1,470.00       1,470.00          1,470.00           1,470.00               1,470.00         1,470.00        1,470.00            1,470.00                 1,470.00              1,470.00\n",
       "mean     36.92     802.49              9.19       2.91           1.00        1,024.87                     2.72       65.89            2.73      2.06             2.73       6,502.93    14,313.10                2.69              15.21               3.15                      2.71          80.00              0.79              11.28                   2.80             2.76            7.01                4.23                     2.19                  4.12\n",
       "std       9.14     403.51              8.11       1.02           0.00          602.02                     1.09       20.33            0.71      1.11             1.10       4,707.96     7,117.79                2.50               3.66               0.36                      1.08           0.00              0.85               7.78                   1.29             0.71            6.13                3.62                     3.22                  3.57\n",
       "min      18.00     102.00              1.00       1.00           1.00            1.00                     1.00       30.00            1.00      1.00             1.00       1,009.00     2,094.00                0.00              11.00               3.00                      1.00          80.00              0.00               0.00                   0.00             1.00            0.00                0.00                     0.00                  0.00\n",
       "25%      30.00     465.00              2.00       2.00           1.00          491.25                     2.00       48.00            2.00      1.00             2.00       2,911.00     8,047.00                1.00              12.00               3.00                      2.00          80.00              0.00               6.00                   2.00             2.00            3.00                2.00                     0.00                  2.00\n",
       "50%      36.00     802.00              7.00       3.00           1.00        1,020.50                     3.00       66.00            3.00      2.00             3.00       4,919.00    14,235.50                2.00              14.00               3.00                      3.00          80.00              1.00              10.00                   3.00             3.00            5.00                3.00                     1.00                  3.00\n",
       "75%      43.00   1,157.00             14.00       4.00           1.00        1,555.75                     4.00       83.75            3.00      3.00             4.00       8,379.00    20,461.50                4.00              18.00               3.00                      4.00          80.00              1.00              15.00                   3.00             3.00            9.00                7.00                     3.00                  7.00\n",
       "max      60.00   1,499.00             29.00       5.00           1.00        2,068.00                     4.00      100.00            4.00      5.00             4.00      19,999.00    26,999.00                9.00              25.00               4.00                      4.00          80.00              3.00              40.00                   6.00             4.00           40.00               18.00                    15.00                 17.00"
      ]
     },
     "execution_count": 28,
     "metadata": {},
     "output_type": "execute_result"
    }
   ],
   "source": [
    " df.describe()"
   ]
  },
  {
   "cell_type": "code",
   "execution_count": 30,
   "id": "ade63048-c206-4237-b51c-5380af0d7a4e",
   "metadata": {
    "tags": []
   },
   "outputs": [
    {
     "name": "stdout",
     "output_type": "stream",
     "text": [
      "\n",
      "Unique values :  \n",
      " Age                           43\n",
      "Attrition                      2\n",
      "BusinessTravel                 3\n",
      "DailyRate                    886\n",
      "Department                     3\n",
      "DistanceFromHome              29\n",
      "Education                      5\n",
      "EducationField                 6\n",
      "EmployeeCount                  1\n",
      "EmployeeNumber              1470\n",
      "EnvironmentSatisfaction        4\n",
      "Gender                         2\n",
      "HourlyRate                    71\n",
      "JobInvolvement                 4\n",
      "JobLevel                       5\n",
      "JobRole                        9\n",
      "JobSatisfaction                4\n",
      "MaritalStatus                  3\n",
      "MonthlyIncome               1349\n",
      "MonthlyRate                 1427\n",
      "NumCompaniesWorked            10\n",
      "Over18                         1\n",
      "OverTime                       2\n",
      "PercentSalaryHike             15\n",
      "PerformanceRating              2\n",
      "RelationshipSatisfaction       4\n",
      "StandardHours                  1\n",
      "StockOptionLevel               4\n",
      "TotalWorkingYears             40\n",
      "TrainingTimesLastYear          7\n",
      "WorkLifeBalance                4\n",
      "YearsAtCompany                37\n",
      "YearsInCurrentRole            19\n",
      "YearsSinceLastPromotion       16\n",
      "YearsWithCurrManager          18\n",
      "dtype: int64\n"
     ]
    }
   ],
   "source": [
    "print (\"\\nUnique values :  \\n\", df.nunique())"
   ]
  },
  {
   "cell_type": "code",
   "execution_count": 32,
   "id": "746df70c-514e-4292-9a0f-7438a8fcf44a",
   "metadata": {
    "tags": []
   },
   "outputs": [
    {
     "data": {
      "text/html": [
       "<div>\n",
       "<style scoped>\n",
       "    .dataframe tbody tr th:only-of-type {\n",
       "        vertical-align: middle;\n",
       "    }\n",
       "\n",
       "    .dataframe tbody tr th {\n",
       "        vertical-align: top;\n",
       "    }\n",
       "\n",
       "    .dataframe thead th {\n",
       "        text-align: right;\n",
       "    }\n",
       "</style>\n",
       "<table border=\"1\" class=\"dataframe\">\n",
       "  <thead>\n",
       "    <tr style=\"text-align: right;\">\n",
       "      <th></th>\n",
       "      <th>Attrition</th>\n",
       "      <th>BusinessTravel</th>\n",
       "      <th>Department</th>\n",
       "      <th>EducationField</th>\n",
       "      <th>Gender</th>\n",
       "      <th>JobRole</th>\n",
       "      <th>MaritalStatus</th>\n",
       "      <th>Over18</th>\n",
       "      <th>OverTime</th>\n",
       "    </tr>\n",
       "  </thead>\n",
       "  <tbody>\n",
       "    <tr>\n",
       "      <th>count</th>\n",
       "      <td>1470</td>\n",
       "      <td>1470</td>\n",
       "      <td>1470</td>\n",
       "      <td>1470</td>\n",
       "      <td>1470</td>\n",
       "      <td>1470</td>\n",
       "      <td>1470</td>\n",
       "      <td>1470</td>\n",
       "      <td>1470</td>\n",
       "    </tr>\n",
       "    <tr>\n",
       "      <th>unique</th>\n",
       "      <td>2</td>\n",
       "      <td>3</td>\n",
       "      <td>3</td>\n",
       "      <td>6</td>\n",
       "      <td>2</td>\n",
       "      <td>9</td>\n",
       "      <td>3</td>\n",
       "      <td>1</td>\n",
       "      <td>2</td>\n",
       "    </tr>\n",
       "    <tr>\n",
       "      <th>top</th>\n",
       "      <td>No</td>\n",
       "      <td>Travel_Rarely</td>\n",
       "      <td>Research &amp; Development</td>\n",
       "      <td>Life Sciences</td>\n",
       "      <td>Male</td>\n",
       "      <td>Sales Executive</td>\n",
       "      <td>Married</td>\n",
       "      <td>Y</td>\n",
       "      <td>No</td>\n",
       "    </tr>\n",
       "    <tr>\n",
       "      <th>freq</th>\n",
       "      <td>1233</td>\n",
       "      <td>1043</td>\n",
       "      <td>961</td>\n",
       "      <td>606</td>\n",
       "      <td>882</td>\n",
       "      <td>326</td>\n",
       "      <td>673</td>\n",
       "      <td>1470</td>\n",
       "      <td>1054</td>\n",
       "    </tr>\n",
       "  </tbody>\n",
       "</table>\n",
       "</div>"
      ],
      "text/plain": [
       "       Attrition BusinessTravel              Department EducationField Gender          JobRole MaritalStatus Over18 OverTime\n",
       "count       1470           1470                    1470           1470   1470             1470          1470   1470     1470\n",
       "unique         2              3                       3              6      2                9             3      1        2\n",
       "top           No  Travel_Rarely  Research & Development  Life Sciences   Male  Sales Executive       Married      Y       No\n",
       "freq        1233           1043                     961            606    882              326           673   1470     1054"
      ]
     },
     "execution_count": 32,
     "metadata": {},
     "output_type": "execute_result"
    }
   ],
   "source": [
    "df.describe(include='object',)"
   ]
  },
  {
   "cell_type": "markdown",
   "id": "d4440f9d-b758-4dd8-8b43-9f2bc0ae60db",
   "metadata": {},
   "source": [
    "## Data Wrangling\n",
    "\n",
    "Let's clean our data a bit. We start by deleting all features with only one variable."
   ]
  },
  {
   "cell_type": "code",
   "execution_count": 35,
   "id": "0165d13f-397f-4872-9bdc-93d75ae87974",
   "metadata": {
    "tags": []
   },
   "outputs": [],
   "source": [
    "# filter variables with one unique value\n",
    "delete = []\n",
    "for col in df.columns:\n",
    "    if df[col].nunique() == 1:\n",
    "        delete += [col]"
   ]
  },
  {
   "cell_type": "code",
   "execution_count": 37,
   "id": "e9a3f145-dc41-4de9-8cc7-2d378aebe874",
   "metadata": {
    "tags": []
   },
   "outputs": [],
   "source": [
    "df.drop(delete, axis=1, inplace=True);"
   ]
  },
  {
   "cell_type": "markdown",
   "id": "279403a1-43d7-4095-abcb-f2c6a0f1459c",
   "metadata": {},
   "source": [
    "We have 1470 unique employees and we don't really care about the employees ID number since it contains no valuable information. So the index  will do the job to identify each employee individually."
   ]
  },
  {
   "cell_type": "code",
   "execution_count": 40,
   "id": "a85de4c4-f893-47e8-b354-0c70d4d313f8",
   "metadata": {
    "tags": []
   },
   "outputs": [],
   "source": [
    "df.drop(['EmployeeNumber'], axis=1, inplace=True)"
   ]
  },
  {
   "cell_type": "markdown",
   "id": "b736029d-dda2-4a5d-9ca7-49bed5c63d52",
   "metadata": {},
   "source": [
    "Now we update the `object` data types to `category` to save more memory and simplify further processing."
   ]
  },
  {
   "cell_type": "code",
   "execution_count": 43,
   "id": "76b6c844-a853-4f95-93b5-aa37c84665a2",
   "metadata": {
    "tags": []
   },
   "outputs": [],
   "source": [
    "for col in df.select_dtypes(include='object').columns:\n",
    "    df[col] = df[col].astype('category')"
   ]
  },
  {
   "cell_type": "code",
   "execution_count": 45,
   "id": "96fe8118-8fa7-4cc7-9002-cfe6148462af",
   "metadata": {
    "tags": []
   },
   "outputs": [
    {
     "name": "stdout",
     "output_type": "stream",
     "text": [
      "<class 'pandas.core.frame.DataFrame'>\n",
      "RangeIndex: 1470 entries, 0 to 1469\n",
      "Data columns (total 31 columns):\n",
      " #   Column                    Non-Null Count  Dtype   \n",
      "---  ------                    --------------  -----   \n",
      " 0   Age                       1470 non-null   int64   \n",
      " 1   Attrition                 1470 non-null   category\n",
      " 2   BusinessTravel            1470 non-null   category\n",
      " 3   DailyRate                 1470 non-null   int64   \n",
      " 4   Department                1470 non-null   category\n",
      " 5   DistanceFromHome          1470 non-null   int64   \n",
      " 6   Education                 1470 non-null   int64   \n",
      " 7   EducationField            1470 non-null   category\n",
      " 8   EnvironmentSatisfaction   1470 non-null   int64   \n",
      " 9   Gender                    1470 non-null   category\n",
      " 10  HourlyRate                1470 non-null   int64   \n",
      " 11  JobInvolvement            1470 non-null   int64   \n",
      " 12  JobLevel                  1470 non-null   int64   \n",
      " 13  JobRole                   1470 non-null   category\n",
      " 14  JobSatisfaction           1470 non-null   int64   \n",
      " 15  MaritalStatus             1470 non-null   category\n",
      " 16  MonthlyIncome             1470 non-null   int64   \n",
      " 17  MonthlyRate               1470 non-null   int64   \n",
      " 18  NumCompaniesWorked        1470 non-null   int64   \n",
      " 19  OverTime                  1470 non-null   category\n",
      " 20  PercentSalaryHike         1470 non-null   int64   \n",
      " 21  PerformanceRating         1470 non-null   int64   \n",
      " 22  RelationshipSatisfaction  1470 non-null   int64   \n",
      " 23  StockOptionLevel          1470 non-null   int64   \n",
      " 24  TotalWorkingYears         1470 non-null   int64   \n",
      " 25  TrainingTimesLastYear     1470 non-null   int64   \n",
      " 26  WorkLifeBalance           1470 non-null   int64   \n",
      " 27  YearsAtCompany            1470 non-null   int64   \n",
      " 28  YearsInCurrentRole        1470 non-null   int64   \n",
      " 29  YearsSinceLastPromotion   1470 non-null   int64   \n",
      " 30  YearsWithCurrManager      1470 non-null   int64   \n",
      "dtypes: category(8), int64(23)\n",
      "memory usage: 278.9 KB\n"
     ]
    }
   ],
   "source": [
    "df.info(memory_usage='deep')"
   ]
  },
  {
   "cell_type": "markdown",
   "id": "47b47704-c31e-4618-9f08-b0818098412a",
   "metadata": {},
   "source": [
    "Now there are only 31 variables left, including our target variable `Attrition`, and 279 KB of memory usage, that is 75% less memory usage compared to the original dataset."
   ]
  },
  {
   "cell_type": "code",
   "execution_count": 48,
   "id": "fdc254d4-3365-4196-990f-b88cebb8d96a",
   "metadata": {
    "tags": []
   },
   "outputs": [
    {
     "data": {
      "text/html": [
       "<div>\n",
       "<style scoped>\n",
       "    .dataframe tbody tr th:only-of-type {\n",
       "        vertical-align: middle;\n",
       "    }\n",
       "\n",
       "    .dataframe tbody tr th {\n",
       "        vertical-align: top;\n",
       "    }\n",
       "\n",
       "    .dataframe thead th {\n",
       "        text-align: right;\n",
       "    }\n",
       "</style>\n",
       "<table border=\"1\" class=\"dataframe\">\n",
       "  <thead>\n",
       "    <tr style=\"text-align: right;\">\n",
       "      <th></th>\n",
       "      <th>Age</th>\n",
       "      <th>DailyRate</th>\n",
       "      <th>DistanceFromHome</th>\n",
       "      <th>Education</th>\n",
       "      <th>EnvironmentSatisfaction</th>\n",
       "      <th>HourlyRate</th>\n",
       "      <th>JobInvolvement</th>\n",
       "      <th>JobLevel</th>\n",
       "      <th>JobSatisfaction</th>\n",
       "      <th>MonthlyIncome</th>\n",
       "      <th>MonthlyRate</th>\n",
       "      <th>NumCompaniesWorked</th>\n",
       "      <th>PercentSalaryHike</th>\n",
       "      <th>PerformanceRating</th>\n",
       "      <th>RelationshipSatisfaction</th>\n",
       "      <th>StockOptionLevel</th>\n",
       "      <th>TotalWorkingYears</th>\n",
       "      <th>TrainingTimesLastYear</th>\n",
       "      <th>WorkLifeBalance</th>\n",
       "      <th>YearsAtCompany</th>\n",
       "      <th>YearsInCurrentRole</th>\n",
       "      <th>YearsSinceLastPromotion</th>\n",
       "      <th>YearsWithCurrManager</th>\n",
       "    </tr>\n",
       "  </thead>\n",
       "  <tbody>\n",
       "    <tr>\n",
       "      <th>min</th>\n",
       "      <td>18.00</td>\n",
       "      <td>102.00</td>\n",
       "      <td>1.00</td>\n",
       "      <td>1.00</td>\n",
       "      <td>1.00</td>\n",
       "      <td>30.00</td>\n",
       "      <td>1.00</td>\n",
       "      <td>1.00</td>\n",
       "      <td>1.00</td>\n",
       "      <td>1,009.00</td>\n",
       "      <td>2,094.00</td>\n",
       "      <td>0.00</td>\n",
       "      <td>11.00</td>\n",
       "      <td>3.00</td>\n",
       "      <td>1.00</td>\n",
       "      <td>0.00</td>\n",
       "      <td>0.00</td>\n",
       "      <td>0.00</td>\n",
       "      <td>1.00</td>\n",
       "      <td>0.00</td>\n",
       "      <td>0.00</td>\n",
       "      <td>0.00</td>\n",
       "      <td>0.00</td>\n",
       "    </tr>\n",
       "    <tr>\n",
       "      <th>max</th>\n",
       "      <td>60.00</td>\n",
       "      <td>1,499.00</td>\n",
       "      <td>29.00</td>\n",
       "      <td>5.00</td>\n",
       "      <td>4.00</td>\n",
       "      <td>100.00</td>\n",
       "      <td>4.00</td>\n",
       "      <td>5.00</td>\n",
       "      <td>4.00</td>\n",
       "      <td>19,999.00</td>\n",
       "      <td>26,999.00</td>\n",
       "      <td>9.00</td>\n",
       "      <td>25.00</td>\n",
       "      <td>4.00</td>\n",
       "      <td>4.00</td>\n",
       "      <td>3.00</td>\n",
       "      <td>40.00</td>\n",
       "      <td>6.00</td>\n",
       "      <td>4.00</td>\n",
       "      <td>40.00</td>\n",
       "      <td>18.00</td>\n",
       "      <td>15.00</td>\n",
       "      <td>17.00</td>\n",
       "    </tr>\n",
       "  </tbody>\n",
       "</table>\n",
       "</div>"
      ],
      "text/plain": [
       "      Age  DailyRate  DistanceFromHome  Education  EnvironmentSatisfaction  HourlyRate  JobInvolvement  JobLevel  JobSatisfaction  MonthlyIncome  MonthlyRate  NumCompaniesWorked  PercentSalaryHike  PerformanceRating  RelationshipSatisfaction  StockOptionLevel  TotalWorkingYears  TrainingTimesLastYear  WorkLifeBalance  YearsAtCompany  YearsInCurrentRole  YearsSinceLastPromotion  YearsWithCurrManager\n",
       "min 18.00     102.00              1.00       1.00                     1.00       30.00            1.00      1.00             1.00       1,009.00     2,094.00                0.00              11.00               3.00                      1.00              0.00               0.00                   0.00             1.00            0.00                0.00                     0.00                  0.00\n",
       "max 60.00   1,499.00             29.00       5.00                     4.00      100.00            4.00      5.00             4.00      19,999.00    26,999.00                9.00              25.00               4.00                      4.00              3.00              40.00                   6.00             4.00           40.00               18.00                    15.00                 17.00"
      ]
     },
     "execution_count": 48,
     "metadata": {},
     "output_type": "execute_result"
    }
   ],
   "source": [
    "df.describe().loc[['min', 'max']]"
   ]
  },
  {
   "cell_type": "markdown",
   "id": "f67690ea-e4a4-4f7f-ad22-811d38fd66d2",
   "metadata": {},
   "source": [
    "There is more we could do to reduce the memory usage. For instance, many features can be converted from `int64` to `int8`."
   ]
  },
  {
   "cell_type": "markdown",
   "id": "b35b4ac0-4009-4e0c-8593-3c0ecbdccf0d",
   "metadata": {},
   "source": [
    "## Exploratory Data Analysis\n",
    "\n",
    "Once the data has been cleaned and trimmed, we can move on to explore it. EDA is used to deepen our insight into the dataset. It helps to uncover the underlying structure, detect outliers and anomalies, and rank features based on correlation and causality.  \n",
    "I usually start by looking at each variable independently and try to find interesting behavior to explore  as well as hypotheses to further investigate.\n",
    "\n",
    "Let's start by visualizing the overall employee attrition rate for the entire dataset. "
   ]
  },
  {
   "cell_type": "code",
   "execution_count": 52,
   "id": "459e73e0-7693-41bc-8179-2f551c9357c6",
   "metadata": {
    "tags": []
   },
   "outputs": [
    {
     "name": "stderr",
     "output_type": "stream",
     "text": [
      "C:\\ProgramData\\anaconda3\\Lib\\site-packages\\seaborn\\_oldcore.py:1498: FutureWarning: is_categorical_dtype is deprecated and will be removed in a future version. Use isinstance(dtype, CategoricalDtype) instead\n",
      "  if pd.api.types.is_categorical_dtype(vector):\n",
      "C:\\ProgramData\\anaconda3\\Lib\\site-packages\\seaborn\\_oldcore.py:1119: FutureWarning: use_inf_as_na option is deprecated and will be removed in a future version. Convert inf values to NaN before operating instead.\n",
      "  with pd.option_context('mode.use_inf_as_na', True):\n",
      "C:\\ProgramData\\anaconda3\\Lib\\site-packages\\seaborn\\_oldcore.py:1057: FutureWarning: The default of observed=False is deprecated and will be changed to True in a future version of pandas. Pass observed=False to retain current behavior or observed=True to adopt the future default and silence this warning.\n",
      "  grouped_data = data.groupby(\n",
      "C:\\ProgramData\\anaconda3\\Lib\\site-packages\\seaborn\\_oldcore.py:1057: FutureWarning: The default of observed=False is deprecated and will be changed to True in a future version of pandas. Pass observed=False to retain current behavior or observed=True to adopt the future default and silence this warning.\n",
      "  grouped_data = data.groupby(\n"
     ]
    },
    {
     "data": {
      "image/png": "[encoded data removed]",
      "text/plain": [
       "<Figure size 800x600 with 1 Axes>"
      ]
     },
     "metadata": {},
     "output_type": "display_data"
    }
   ],
   "source": [
    "sns.set(style='darkgrid', context='notebook', rc={\"figure.figsize\":(8, 6)})\n",
    "\n",
    "ax = sns.histplot(data=df, x='Attrition', hue='Attrition', stat='percent')\n",
    "plt.title('Employee Churn Rate', fontdict={'fontsize':18});\n"
   ]
  },
  {
   "cell_type": "markdown",
   "id": "78c673be-a216-4cd5-aca7-d7b65ba9f241",
   "metadata": {},
   "source": [
    "From the figure above we can see that our target label `Attrition` is severely imbalanced. In fact, about 17% of all employees quit their jobs, which is a lot considering that replacing an employee with an annual salary of \\\\$35,000 costs the company between \\\\$17,500 and \\\\$26,250 and can take as long as six to nine months.    \n",
    "\n",
    "Class imbalance is a common problem in machine learning. This typically involves models that deal with anomalies, such as credit card fraud detection, disease screening, as well as less serious unbalanced issues such as customer or employee churn. In fact, the purpose of the model is to accurately predict the minority class, not just to achieve high accuracy. In this case, just by predicting the majority class, we already achieve an accuracy of 80%, and in extreme cases, such as the analysis of credit fraud or other problems with an imbalance rate of up to 1:1000 or more, just by following the simple rule of assigning each observation to the majority class, we already achieve an accuracy of 99.90%. Therefore, using accuracy as a predictive measure is not much use when the data is unbalanced. More about this later."
   ]
  },
  {
   "cell_type": "markdown",
   "id": "0dac53df-c71f-4876-a4bb-632251099816",
   "metadata": {},
   "source": [
    "### Factor Income "
   ]
  },
  {
   "cell_type": "code",
   "execution_count": 14,
   "id": "99a2ef9b-398b-445c-b822-454a08a97b39",
   "metadata": {
    "tags": []
   },
   "outputs": [
    {
     "ename": "NameError",
     "evalue": "name 'sns' is not defined",
     "output_type": "error",
     "traceback": [
      "\u001b[1;31m---------------------------------------------------------------------------\u001b[0m",
      "\u001b[1;31mNameError\u001b[0m                                 Traceback (most recent call last)",
      "Cell \u001b[1;32mIn[14], line 1\u001b[0m\n\u001b[1;32m----> 1\u001b[0m sns\u001b[38;5;241m.\u001b[39mset(style\u001b[38;5;241m=\u001b[39m\u001b[38;5;124m'\u001b[39m\u001b[38;5;124mdarkgrid\u001b[39m\u001b[38;5;124m'\u001b[39m, context\u001b[38;5;241m=\u001b[39m\u001b[38;5;124m'\u001b[39m\u001b[38;5;124mnotebook\u001b[39m\u001b[38;5;124m'\u001b[39m, rc\u001b[38;5;241m=\u001b[39m{\u001b[38;5;124m\"\u001b[39m\u001b[38;5;124mfigure.figsize\u001b[39m\u001b[38;5;124m\"\u001b[39m:(\u001b[38;5;241m10\u001b[39m, \u001b[38;5;241m16\u001b[39m)})\n\u001b[0;32m      3\u001b[0m \u001b[38;5;66;03m# create a figure with 4 axes \u001b[39;00m\n\u001b[0;32m      4\u001b[0m fig, ax \u001b[38;5;241m=\u001b[39m plt\u001b[38;5;241m.\u001b[39msubplots(nrows\u001b[38;5;241m=\u001b[39m\u001b[38;5;241m4\u001b[39m, ncols\u001b[38;5;241m=\u001b[39m\u001b[38;5;241m2\u001b[39m)\n",
      "\u001b[1;31mNameError\u001b[0m: name 'sns' is not defined"
     ]
    }
   ],
   "source": [
    "sns.set(style='darkgrid', context='notebook', rc={\"figure.figsize\":(10, 16)})\n",
    "\n",
    "# create a figure with 4 axes \n",
    "fig, ax = plt.subplots(nrows=4, ncols=2)\n",
    "var_list = ['MonthlyIncome', 'MonthlyRate', 'DailyRate', 'HourlyRate']\n",
    "\n",
    "for i, var in enumerate(var_list):\n",
    "    g = sns.histplot(data=df, x=var,multiple='fill', hue='Attrition',\n",
    "                 stat='percent', kde=True, ax=ax[i, 1])\n",
    "    sns.kdeplot(data=df, x=var, hue='Attrition', multiple='stack', \n",
    "                ax=ax[i, 0])\n",
    "    \n",
    "plt.suptitle('Attrition vs. Income & Rate', fontsize=18)\n",
    "plt.tight_layout();"
   ]
  },
  {
   "cell_type": "markdown",
   "id": "d8541821-7181-4d04-b99f-71209121390d",
   "metadata": {},
   "source": [
    "We don't know exactly what *Rate means, since no explanation has been provided by IBM. However, from the figures above we can see that attrition is more affected by the monthly incomes that any other plotted variable.\n",
    "\n",
    "The income variable shows a clear pattern: \n",
    "* Most people that leaves the company are the less payed. Which is understandable, who wanna stick to a company who pays minimum wage salaries.\n",
    "* The second group are, obviously, the one who belongs to the second worse salary in the company.\n",
    "\n",
    "Let's plot again the attrition rate in relation to `MonthlyIncome`."
   ]
  },
  {
   "cell_type": "code",
   "execution_count": 46,
   "id": "e260b343-171c-41cc-a2fa-69c65c3b5ea0",
   "metadata": {
    "tags": []
   },
   "outputs": [
    {
     "data": {
      "image/png": "[encoded data removed]",
      "text/plain": [
       "<Figure size 800x600 with 1 Axes>"
      ]
     },
     "metadata": {},
     "output_type": "display_data"
    }
   ],
   "source": [
    "sns.set(style='darkgrid', context='notebook', rc={\"figure.figsize\":(8, 6)})\n",
    "g = sns.histplot(data=df, x='MonthlyIncome', multiple='fill', hue='Attrition',\n",
    "                 stat='percent', element='step', kde=True, bins=35, )\n",
    "pd.plotting.table(g, np.round(df['MonthlyIncome'].describe(percentiles=[.25, .5, .75, .9]), 2), \n",
    "                  loc='upper center', colWidths=[.2, .3, .3, .3]);"
   ]
  },
  {
   "cell_type": "markdown",
   "id": "c2b6cabf-4dd4-4552-83e2-980a13261043",
   "metadata": {},
   "source": [
    "Interesting to see another jump in the employee attrition for salaries around $10,000 as well as for the highest payed salary. Let's see if we can come up with a good explanation for this behavior."
   ]
  },
  {
   "cell_type": "markdown",
   "id": "d025425b-4689-4aad-80b3-43cdb174792a",
   "metadata": {},
   "source": [
    "### Attrition vs. Distance From Home"
   ]
  },
  {
   "cell_type": "code",
   "execution_count": 78,
   "id": "f2e8cfc9-2c30-4d83-a0c0-b77c75fe9e26",
   "metadata": {
    "tags": []
   },
   "outputs": [
    {
     "data": {
      "image/png": "[encoded data removed]",
      "text/plain": [
       "<Figure size 1000x400 with 2 Axes>"
      ]
     },
     "metadata": {},
     "output_type": "display_data"
    }
   ],
   "source": [
    "sns.set(style = 'darkgrid', context = 'notebook', rc = {\"figure.figsize\": (10, 4)})\n",
    "\n",
    "fig, ax = plt.subplots(nrows=1, ncols=2)\n",
    "g = sns.histplot(data=df, x='DistanceFromHome', hue='Attrition',multiple='fill',\n",
    "                 stat='percent', element='step', kde=True, ax = ax[1])\n",
    "sns.kdeplot(data=df, x='DistanceFromHome', hue='Attrition', multiple='stack', \n",
    "                ax=ax[0])\n",
    "pd.plotting.table(g, np.round(df['DistanceFromHome'].describe()), \n",
    "                  loc='upper center', colWidths=[.2, .3, .3, .3]);"
   ]
  },
  {
   "cell_type": "markdown",
   "id": "d81c45eb-007e-4c49-9557-2c08b0482b24",
   "metadata": {},
   "source": [
    "We don't know how far the company is from home since there isn't any accurate distance information, but we can see that some interesting facts. .\n",
    "\n",
    "The `DistanceFromHome` variable shows a clear pattern: \n",
    "* This is related with the attrition absolutely, but has an overall trend about the relationship between these two variables. In a word, the farther from home, the more attrition there is.\n",
    "* But We can see that this variable is less related with attrition than `MonthlyIncome`. "
   ]
  },
  {
   "cell_type": "markdown",
   "id": "b979ab31-881b-4179-a981-0556f5523f5a",
   "metadata": {
    "tags": []
   },
   "source": [
    "### Attrition vs. Performance Rating"
   ]
  },
  {
   "cell_type": "code",
   "execution_count": 102,
   "id": "ced612e8-6339-4554-ab4a-f97a5743158c",
   "metadata": {
    "tags": []
   },
   "outputs": [
    {
     "data": {
      "text/plain": [
       "<Axes: xlabel='PerformanceRating', ylabel='Density'>"
      ]
     },
     "execution_count": 102,
     "metadata": {},
     "output_type": "execute_result"
    },
    {
     "data": {
      "image/png": "[encoded data removed]",
      "text/plain": [
       "<Figure size 1000x400 with 2 Axes>"
      ]
     },
     "metadata": {},
     "output_type": "display_data"
    }
   ],
   "source": [
    "sns.set(style = 'darkgrid', context = 'notebook', rc = {\"figure.figsize\": (10, 4)})\n",
    "\n",
    "fig, ax = plt.subplots(nrows=1, ncols=2)\n",
    "g = sns.histplot(data=df, x='PerformanceRating', multiple='fill', hue='Attrition',\n",
    "                 stat='percent', kde=False, ax=ax[1])\n",
    "sns.kdeplot(data=df, x='PerformanceRating', hue='Attrition', multiple='stack', \n",
    "                ax=ax[0])"
   ]
  },
  {
   "cell_type": "markdown",
   "id": "eeb4b93c-8b44-4407-9b21-bb0399210808",
   "metadata": {},
   "source": [
    "As we can see, the relationship between attribution and performance rating is very low. I think this is not so good. In general, the ideal distribution of this is that the higher `PerformanceRating`, the lower `Attrition` is. We have to try the more policies that satisfy these people."
   ]
  },
  {
   "cell_type": "code",
   "execution_count": null,
   "id": "092add5b-e5d0-4a0c-8235-5b9a1e85487a",
   "metadata": {},
   "outputs": [],
   "source": []
  }
 ],
 "metadata": {
  "kernelspec": {
   "display_name": "Python 3 (ipykernel)",
   "language": "python",
   "name": "python3"
  },
  "language_info": {
   "codemirror_mode": {
    "name": "ipython",
    "version": 3
   },
   "file_extension": ".py",
   "mimetype": "text/x-python",
   "name": "python",
   "nbconvert_exporter": "python",
   "pygments_lexer": "ipython3",
   "version": "3.11.5"
  }
 },
 "nbformat": 4,
 "nbformat_minor": 5
}
